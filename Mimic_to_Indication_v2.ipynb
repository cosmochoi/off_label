{
 "cells": [
  {
   "cell_type": "code",
   "execution_count": 20,
   "id": "25d7ca58",
   "metadata": {},
   "outputs": [],
   "source": [
    "import pandas as pd\n",
    "import numpy as np\n",
    "import vocab_mappings as vocab"
   ]
  },
  {
   "cell_type": "code",
   "execution_count": 19,
   "id": "5531a9b9",
   "metadata": {},
   "outputs": [
    {
     "name": "stdout",
     "output_type": "stream",
     "text": [
      "/Users/yc3972/Desktop/DBMI/Courses/GD1_Fall/G4003 Symbolic Methods/Project\n"
     ]
    }
   ],
   "source": [
    "%cd .."
   ]
  },
  {
   "cell_type": "code",
   "execution_count": 132,
   "id": "691f6888",
   "metadata": {},
   "outputs": [],
   "source": [
    "import off_label"
   ]
  },
  {
   "cell_type": "markdown",
   "id": "1454fe93",
   "metadata": {},
   "source": [
    "## Read in Sample Patient Data"
   ]
  },
  {
   "cell_type": "code",
   "execution_count": 22,
   "id": "03b5f0ee",
   "metadata": {},
   "outputs": [],
   "source": [
    "def returning_lists_alt(drug,i):\n",
    "    patients_given = off_label.patient_list(drug)\n",
    "    query_patient = patients_given.subject_id[i] \n",
    "    query_visit = patients_given.hadm_id[i]\n",
    "    print(\"Searching for Patient \"+ str(query_patient) + \" who has been given \" + str(drug) + \" , for visit number \" + str(query_visit) + \".\")\n",
    "    diagnoses = off_label.diagnosis_list(query_patient, query_visit)\n",
    "    drugs = off_label.drugs_list(query_patient, query_visit)\n",
    "    \n",
    "    return diagnoses, drugs"
   ]
  },
  {
   "cell_type": "code",
   "execution_count": 136,
   "id": "b2266d22",
   "metadata": {
    "scrolled": true
   },
   "outputs": [
    {
     "name": "stdout",
     "output_type": "stream",
     "text": [
      "Searching for Patient 17868682 who has been given Gabapentin , for visit number 25218370.\n",
      "Searching for Patient 11443746 who has been given Gabapentin , for visit number 27515077.\n",
      "Searching for Patient 15214984 who has been given Gabapentin , for visit number 24427705.\n"
     ]
    }
   ],
   "source": [
    "diagnoses0,drugs0 = off_label.returning_lists('Gabapentin',0) \n",
    "diagnoses390,drugs390 = off_label.returning_lists('Gabapentin',390) \n",
    "diagnoses40007,drugs40007 = off_label.returning_lists('Gabapentin',40007) "
   ]
  },
  {
   "cell_type": "code",
   "execution_count": 134,
   "id": "6016aac8",
   "metadata": {},
   "outputs": [
    {
     "name": "stderr",
     "output_type": "stream",
     "text": [
      "<ipython-input-134-41b5a42cd49e>:2: DtypeWarning: Columns (7) have mixed types.Specify dtype option on import or set low_memory=False.\n",
      "  imp.reload(off_label)\n"
     ]
    },
    {
     "data": {
      "text/plain": [
       "<module 'off_label' from '/Users/yc3972/Desktop/DBMI/Courses/GD1_Fall/G4003 Symbolic Methods/Project/off_label/off_label.py'>"
      ]
     },
     "execution_count": 134,
     "metadata": {},
     "output_type": "execute_result"
    }
   ],
   "source": [
    "import imp\n",
    "imp.reload(off_label)\n",
    "#%pwd"
   ]
  },
  {
   "cell_type": "code",
   "execution_count": 34,
   "id": "b436c037",
   "metadata": {
    "scrolled": true
   },
   "outputs": [],
   "source": [
    "std_diag_dict0 = vocab.diag_ICD_SNOMED(diagnoses0)\n",
    "std_diag_dict390 = vocab.diag_ICD_SNOMED(diagnoses390) # Found random patients whose diagnoses would match indications\n",
    "std_diag_dict40007 = vocab.diag_ICD_SNOMED(diagnoses40007)"
   ]
  },
  {
   "cell_type": "code",
   "execution_count": 8,
   "id": "840d4fd8",
   "metadata": {},
   "outputs": [],
   "source": [
    "diag_MeSH_dict0 = vocab.diag_ICD_MeSH(diagnoses0)\n",
    "diag_MeSH_dict390 = vocab.diag_ICD_MeSH(diagnoses390)\n"
   ]
  },
  {
   "cell_type": "code",
   "execution_count": 42,
   "id": "1478bffa",
   "metadata": {},
   "outputs": [],
   "source": [
    "diag_MeSH_dict40007 = vocab.diag_ICD_MeSH(diagnoses40007)"
   ]
  },
  {
   "cell_type": "code",
   "execution_count": 43,
   "id": "cfcf6ec8",
   "metadata": {},
   "outputs": [
    {
     "data": {
      "text/plain": [
       "{'ICD9 280.9': {'SNOMED': [436659],\n",
       "  'MeSH': [45617133],\n",
       "  'MeSH_concept': ['Anemia, Iron-Deficiency']},\n",
       " 'ICD9 333.94': {'SNOMED': [73754],\n",
       "  'MeSH': [45610854],\n",
       "  'MeSH_concept': ['Restless Legs Syndrome']},\n",
       " 'ICD9 288.60': {'SNOMED': [438398],\n",
       "  'MeSH': [45619141],\n",
       "  'MeSH_concept': ['Leukocytosis']},\n",
       " 'ICD9 414.01': {'SNOMED': [317576], 'MeSH': [], 'MeSH_concept': []},\n",
       " 'ICD9 458.0': {'SNOMED': [319041],\n",
       "  'MeSH': [45614300],\n",
       "  'MeSH_concept': ['Hypotension, Orthostatic']},\n",
       " 'ICD9 564.00': {'SNOMED': [75860],\n",
       "  'MeSH': [45616518],\n",
       "  'MeSH_concept': ['Constipation']},\n",
       " 'ICD9 787.91': {'SNOMED': [196523],\n",
       "  'MeSH': [45618962],\n",
       "  'MeSH_concept': ['Diarrhea']}}"
      ]
     },
     "execution_count": 43,
     "metadata": {},
     "output_type": "execute_result"
    }
   ],
   "source": [
    "diag_MeSH_dict40007"
   ]
  },
  {
   "cell_type": "markdown",
   "id": "f4f01969",
   "metadata": {},
   "source": [
    "# Patient Data to Indication Data Mappings"
   ]
  },
  {
   "cell_type": "markdown",
   "id": "4391616d",
   "metadata": {},
   "source": [
    "## Patient Data --> DrugCentral\n",
    "TODO: first few cells of formatting from gb_DrugCentralRaw --> gb_DrugCentral: KS to in DrugInd_Extraction code to correct for SNOMED concept code vs ID"
   ]
  },
  {
   "cell_type": "code",
   "execution_count": 126,
   "id": "d063d86b",
   "metadata": {},
   "outputs": [
    {
     "name": "stdout",
     "output_type": "stream",
     "text": [
      "/Users/yc3972/Desktop/DBMI/Courses/GD1_Fall/G4003 Symbolic Methods/Project/off_label/full_OMOP\n"
     ]
    }
   ],
   "source": [
    "%cd ~/Desktop/DBMI/Courses/GD1_Fall/G4003 Symbolic Methods/Project/off_label/full_OMOP"
   ]
  },
  {
   "cell_type": "code",
   "execution_count": 127,
   "id": "a2227a2d",
   "metadata": {},
   "outputs": [
    {
     "name": "stderr",
     "output_type": "stream",
     "text": [
      "/Users/yc3972/opt/anaconda3/lib/python3.8/site-packages/IPython/core/interactiveshell.py:3165: DtypeWarning: Columns (5,6,9) have mixed types.Specify dtype option on import or set low_memory=False.\n",
      "  has_raised = await self.run_ast_nodes(code_ast.body, cell_name,\n"
     ]
    }
   ],
   "source": [
    "# Change directory to where OMOP Vocabulary download is saved\n",
    "# Load all concepts\n",
    "concept = pd.read_csv('CONCEPT.csv',delimiter='\\t',skiprows=1,\n",
    "                      names = ['concept_id','concept_name',\n",
    "                              'domain_id','vocabulary_id','concept_class_id','standard_concept',\n",
    "                              'concept_code','valid_start_date','valid_end_date','invalid_reason'],index_col=False)\n",
    "# Load all concept relationships\n",
    "concept_relationship = pd.read_csv('CONCEPT_RELATIONSHIP.csv',delimiter='\\t',skiprows=1,\n",
    "                      names = ['concept_id_1','concept_id_2',\n",
    "                              'relationship_id',\n",
    "                               'valid_start_date','valid_end_date','invalid_reason'],\n",
    "                           index_col=False)"
   ]
  },
  {
   "cell_type": "code",
   "execution_count": 128,
   "id": "d59b1f31",
   "metadata": {},
   "outputs": [
    {
     "name": "stdout",
     "output_type": "stream",
     "text": [
      "/Users/yc3972/Desktop/DBMI/Courses/GD1_Fall/G4003 Symbolic Methods/Project/off_label\n"
     ]
    }
   ],
   "source": [
    "%cd .."
   ]
  },
  {
   "cell_type": "code",
   "execution_count": 85,
   "id": "a95da279",
   "metadata": {
    "scrolled": false
   },
   "outputs": [],
   "source": [
    "# Load DrugCentral data\n",
    "gb_DrugCentral_raw = pd.read_csv('Gabapentin_indications_drugcentral.csv', sep = ',', header =0)\n",
    "gb_DrugCentral_raw['snomed_conceptid'] = gb_DrugCentral_raw['snomed_conceptid'].fillna(0).astype(np.int64)\n",
    "\n",
    "# Join nonstandard conceptIDs with OMOP concept table to get data on the concept name, vocabualry source, standard flag, etc. \n",
    "merge_DC = pd.merge(gb_DrugCentral_raw, concept, \n",
    "                    how=\"left\", left_on='snomed_conceptid', right_on='concept_code')\n",
    "merge_DC = merge_DC.loc[merge_DC['vocabulary_id']!='Nebraska Lexicon'].reset_index()\n",
    "\n",
    "gb_DrugCentral = merge_DC[['struct_id','omop_concept_id','relationship_name','omop_concept_name','umls_cui','umls_semantic_type','snomed_conceptid','snomed_full_name','drug_name','concept_id','concept_class_id','standard_concept']]\n",
    "gb_DrugCentral =  gb_DrugCentral.rename(columns = {'snomed_conceptid':'snomed_concept_code','concept_id':'snomed_concept_id'})\n",
    "gb_DrugCentral['snomed_concept_id'] = gb_DrugCentral['snomed_concept_id'].fillna(0).astype(np.int64)\n",
    "\n",
    "# Convert all SNOMED ID's from DrugCentral to lists for each classification of indication, off-label use, contraindication\n",
    "DC_SNOMED_ind = (gb_DrugCentral.loc[gb_DrugCentral['relationship_name']=='indication'])['snomed_concept_id'].values.tolist()\n",
    "DC_SNOMED_off = (gb_DrugCentral.loc[gb_DrugCentral['relationship_name']=='off-label use'])['snomed_concept_id'].values.tolist()\n",
    "DC_SNOMED_contr = (gb_DrugCentral.loc[gb_DrugCentral['relationship_name']=='contraindication'])['snomed_concept_id'].values.tolist()\n"
   ]
  },
  {
   "cell_type": "code",
   "execution_count": 93,
   "id": "aeb22149",
   "metadata": {},
   "outputs": [
    {
     "data": {
      "text/plain": [
       "[4071164, 73754, 0]"
      ]
     },
     "execution_count": 93,
     "metadata": {},
     "output_type": "execute_result"
    }
   ],
   "source": [
    "DC_SNOMED_ind"
   ]
  },
  {
   "cell_type": "code",
   "execution_count": 166,
   "id": "877d54c7",
   "metadata": {},
   "outputs": [],
   "source": [
    "### Get All related SNOMED codes for given SNOMED code, HORIZONTALLY\n",
    "### For mapping, refer to vocab_mapping.py, get_nonStandard_SNOMED(j)\n",
    "### We specifically want to get all the SNOMED codes that map to out standard, for efficient comparison with indication\n",
    "def all_related(std_dict):\n",
    "    related = {}\n",
    "    for icd in std_dict.keys():\n",
    "        std_codes = std_dict[icd]\n",
    "        for j in std_codes:\n",
    "            all_related = vocab.get_nonStandard_SNOMED(j)\n",
    "            all_related = all_related.loc[all_related.vocabulary_id == 'SNOMED','concept_id_2'].values.tolist()\n",
    "            if icd not in related:\n",
    "                related[icd] = all_related\n",
    "            else:\n",
    "                related[icd].extend(all_related)\n",
    "    return related"
   ]
  },
  {
   "cell_type": "code",
   "execution_count": 167,
   "id": "7fb39f94",
   "metadata": {},
   "outputs": [],
   "source": [
    "all_snomed_0 = all_related(std_diag_dict0)"
   ]
  },
  {
   "cell_type": "code",
   "execution_count": 170,
   "id": "164b1fce",
   "metadata": {},
   "outputs": [],
   "source": [
    "all_snomed_390 = all_related(std_diag_dict390)\n",
    "all_snomed_40007 = all_related(std_diag_dict40007)"
   ]
  },
  {
   "cell_type": "code",
   "execution_count": 171,
   "id": "3ea82c0c",
   "metadata": {},
   "outputs": [],
   "source": [
    "# TO DO: for now just prints, create dictionary output, or whatever makes the most sense \n",
    "# TO DO: count matches\n",
    "# get_DrugCentral_matches HORIZONTALLY\n",
    "# Input dictionary of ICD codes and SNOMED codes\n",
    "# Output which SNOMED codes map to DrugCentral Indication data\n",
    "def get_DC_matches(diag_dict):\n",
    "    for icd in diag_dict.keys():\n",
    "        std_codes = diag_dict[icd]\n",
    "        for j in std_codes:\n",
    "            if j in DC_SNOMED_ind: # an indication\n",
    "                print('indication:')\n",
    "                print(j)\n",
    "            elif j in DC_SNOMED_off: # off label use\n",
    "                print('off-label:')\n",
    "                print(j)\n",
    "            elif j in DC_SNOMED_contr: # contraindication\n",
    "                print('contraindication:')\n",
    "                print(j)\n",
    "            else:\n",
    "                pass "
   ]
  },
  {
   "cell_type": "code",
   "execution_count": 172,
   "id": "e60e8aca",
   "metadata": {},
   "outputs": [
    {
     "name": "stdout",
     "output_type": "stream",
     "text": [
      "contraindication:\n",
      "440383\n"
     ]
    }
   ],
   "source": [
    "get_DC_matches(all_snomed_0)"
   ]
  },
  {
   "cell_type": "code",
   "execution_count": 173,
   "id": "edad3be7",
   "metadata": {},
   "outputs": [
    {
     "name": "stdout",
     "output_type": "stream",
     "text": [
      "contraindication:\n",
      "4273391\n",
      "off-label:\n",
      "436962\n"
     ]
    }
   ],
   "source": [
    "get_DC_matches(all_snomed_390)"
   ]
  },
  {
   "cell_type": "code",
   "execution_count": 174,
   "id": "6fdd13d9",
   "metadata": {},
   "outputs": [
    {
     "name": "stdout",
     "output_type": "stream",
     "text": [
      "indication:\n",
      "73754\n"
     ]
    }
   ],
   "source": [
    "get_DC_matches(all_snomed_40007)"
   ]
  },
  {
   "cell_type": "markdown",
   "id": "1c86c3ab",
   "metadata": {},
   "source": [
    "## 3b. Patient Data --> AACT"
   ]
  },
  {
   "cell_type": "code",
   "execution_count": 33,
   "id": "72ab8d0e",
   "metadata": {
    "collapsed": true
   },
   "outputs": [
    {
     "data": {
      "text/html": [
       "<div>\n",
       "<style scoped>\n",
       "    .dataframe tbody tr th:only-of-type {\n",
       "        vertical-align: middle;\n",
       "    }\n",
       "\n",
       "    .dataframe tbody tr th {\n",
       "        vertical-align: top;\n",
       "    }\n",
       "\n",
       "    .dataframe thead th {\n",
       "        text-align: right;\n",
       "    }\n",
       "</style>\n",
       "<table border=\"1\" class=\"dataframe\">\n",
       "  <thead>\n",
       "    <tr style=\"text-align: right;\">\n",
       "      <th></th>\n",
       "      <th>nct_id</th>\n",
       "      <th>drug_mesh</th>\n",
       "      <th>cond_mesh</th>\n",
       "      <th>mesh_type</th>\n",
       "    </tr>\n",
       "  </thead>\n",
       "  <tbody>\n",
       "    <tr>\n",
       "      <th>0</th>\n",
       "      <td>NCT00619983</td>\n",
       "      <td>Gabapentin</td>\n",
       "      <td>Neuralgia</td>\n",
       "      <td>mesh-list</td>\n",
       "    </tr>\n",
       "    <tr>\n",
       "      <th>1</th>\n",
       "      <td>NCT00619983</td>\n",
       "      <td>Gabapentin</td>\n",
       "      <td>Diabetic Neuropathies</td>\n",
       "      <td>mesh-list</td>\n",
       "    </tr>\n",
       "    <tr>\n",
       "      <th>2</th>\n",
       "      <td>NCT00619983</td>\n",
       "      <td>Gabapentin</td>\n",
       "      <td>Back Pain</td>\n",
       "      <td>mesh-list</td>\n",
       "    </tr>\n",
       "    <tr>\n",
       "      <th>3</th>\n",
       "      <td>NCT00619983</td>\n",
       "      <td>Gabapentin</td>\n",
       "      <td>Low Back Pain</td>\n",
       "      <td>mesh-list</td>\n",
       "    </tr>\n",
       "    <tr>\n",
       "      <th>4</th>\n",
       "      <td>NCT00619983</td>\n",
       "      <td>Gabapentin</td>\n",
       "      <td>Pain</td>\n",
       "      <td>mesh-ancestor</td>\n",
       "    </tr>\n",
       "    <tr>\n",
       "      <th>...</th>\n",
       "      <td>...</td>\n",
       "      <td>...</td>\n",
       "      <td>...</td>\n",
       "      <td>...</td>\n",
       "    </tr>\n",
       "    <tr>\n",
       "      <th>2078</th>\n",
       "      <td>NCT00666770</td>\n",
       "      <td>Gabapentin</td>\n",
       "      <td>Sleep Disorders, Intrinsic</td>\n",
       "      <td>mesh-ancestor</td>\n",
       "    </tr>\n",
       "    <tr>\n",
       "      <th>2079</th>\n",
       "      <td>NCT00666770</td>\n",
       "      <td>Gabapentin</td>\n",
       "      <td>Dyssomnias</td>\n",
       "      <td>mesh-ancestor</td>\n",
       "    </tr>\n",
       "    <tr>\n",
       "      <th>2080</th>\n",
       "      <td>NCT00666770</td>\n",
       "      <td>Gabapentin</td>\n",
       "      <td>Sleep Wake Disorders</td>\n",
       "      <td>mesh-ancestor</td>\n",
       "    </tr>\n",
       "    <tr>\n",
       "      <th>2081</th>\n",
       "      <td>NCT00666770</td>\n",
       "      <td>Gabapentin</td>\n",
       "      <td>Nervous System Diseases</td>\n",
       "      <td>mesh-ancestor</td>\n",
       "    </tr>\n",
       "    <tr>\n",
       "      <th>2082</th>\n",
       "      <td>NCT00666770</td>\n",
       "      <td>Gabapentin</td>\n",
       "      <td>Mental Disorders</td>\n",
       "      <td>mesh-ancestor</td>\n",
       "    </tr>\n",
       "  </tbody>\n",
       "</table>\n",
       "<p>2083 rows × 4 columns</p>\n",
       "</div>"
      ],
      "text/plain": [
       "           nct_id   drug_mesh                   cond_mesh      mesh_type\n",
       "0     NCT00619983  Gabapentin                   Neuralgia      mesh-list\n",
       "1     NCT00619983  Gabapentin       Diabetic Neuropathies      mesh-list\n",
       "2     NCT00619983  Gabapentin                   Back Pain      mesh-list\n",
       "3     NCT00619983  Gabapentin               Low Back Pain      mesh-list\n",
       "4     NCT00619983  Gabapentin                        Pain  mesh-ancestor\n",
       "...           ...         ...                         ...            ...\n",
       "2078  NCT00666770  Gabapentin  Sleep Disorders, Intrinsic  mesh-ancestor\n",
       "2079  NCT00666770  Gabapentin                  Dyssomnias  mesh-ancestor\n",
       "2080  NCT00666770  Gabapentin        Sleep Wake Disorders  mesh-ancestor\n",
       "2081  NCT00666770  Gabapentin     Nervous System Diseases  mesh-ancestor\n",
       "2082  NCT00666770  Gabapentin            Mental Disorders  mesh-ancestor\n",
       "\n",
       "[2083 rows x 4 columns]"
      ]
     },
     "execution_count": 33,
     "metadata": {},
     "output_type": "execute_result"
    }
   ],
   "source": [
    "# Extract from AACT database all mesh terms for completed/ongoing clinical trials where the intervention is Gabapentin\n",
    "# CSV exported from: OneDrive%20-%20cumc.columbia.edu/Symbolic_Project/DrugInd_Extraction.ipynb\n",
    "\n",
    "gb_AACT = pd.read_csv('Gabapentin_treat_ClinicalTrials.csv',skiprows=1,\n",
    "                      names = ['nct_id','drug_mesh','cond_mesh','mesh_type'],index_col=False)\n",
    "gb_AACT"
   ]
  },
  {
   "cell_type": "code",
   "execution_count": 48,
   "id": "74333171",
   "metadata": {},
   "outputs": [],
   "source": [
    "def get_AACT_matches(diag_MeSH_dict):\n",
    "    \n",
    "    for ICD in diag_MeSH_dict:\n",
    "        concept = diag_MeSH_dict[ICD]['MeSH_concept'][0]\n",
    "\n",
    "        if (gb_AACT.loc[gb_AACT['cond_mesh'] == concept]).empty == False:\n",
    "            display(gb_AACT.loc[gb_AACT['cond_mesh'] == concept])\n",
    "\n",
    "    return"
   ]
  },
  {
   "cell_type": "code",
   "execution_count": 49,
   "id": "8cbf4f3f",
   "metadata": {
    "collapsed": true
   },
   "outputs": [
    {
     "data": {
      "text/html": [
       "<div>\n",
       "<style scoped>\n",
       "    .dataframe tbody tr th:only-of-type {\n",
       "        vertical-align: middle;\n",
       "    }\n",
       "\n",
       "    .dataframe tbody tr th {\n",
       "        vertical-align: top;\n",
       "    }\n",
       "\n",
       "    .dataframe thead th {\n",
       "        text-align: right;\n",
       "    }\n",
       "</style>\n",
       "<table border=\"1\" class=\"dataframe\">\n",
       "  <thead>\n",
       "    <tr style=\"text-align: right;\">\n",
       "      <th></th>\n",
       "      <th>nct_id</th>\n",
       "      <th>drug_mesh</th>\n",
       "      <th>cond_mesh</th>\n",
       "      <th>mesh_type</th>\n",
       "    </tr>\n",
       "  </thead>\n",
       "  <tbody>\n",
       "    <tr>\n",
       "      <th>925</th>\n",
       "      <td>NCT01263132</td>\n",
       "      <td>Gabapentin</td>\n",
       "      <td>Polyneuropathies</td>\n",
       "      <td>mesh-list</td>\n",
       "    </tr>\n",
       "  </tbody>\n",
       "</table>\n",
       "</div>"
      ],
      "text/plain": [
       "          nct_id   drug_mesh         cond_mesh  mesh_type\n",
       "925  NCT01263132  Gabapentin  Polyneuropathies  mesh-list"
      ]
     },
     "metadata": {},
     "output_type": "display_data"
    },
    {
     "data": {
      "text/html": [
       "<div>\n",
       "<style scoped>\n",
       "    .dataframe tbody tr th:only-of-type {\n",
       "        vertical-align: middle;\n",
       "    }\n",
       "\n",
       "    .dataframe tbody tr th {\n",
       "        vertical-align: top;\n",
       "    }\n",
       "\n",
       "    .dataframe thead th {\n",
       "        text-align: right;\n",
       "    }\n",
       "</style>\n",
       "<table border=\"1\" class=\"dataframe\">\n",
       "  <thead>\n",
       "    <tr style=\"text-align: right;\">\n",
       "      <th></th>\n",
       "      <th>nct_id</th>\n",
       "      <th>drug_mesh</th>\n",
       "      <th>cond_mesh</th>\n",
       "      <th>mesh_type</th>\n",
       "    </tr>\n",
       "  </thead>\n",
       "  <tbody>\n",
       "    <tr>\n",
       "      <th>1558</th>\n",
       "      <td>NCT02987985</td>\n",
       "      <td>Gabapentin</td>\n",
       "      <td>Depressive Disorder</td>\n",
       "      <td>mesh-list</td>\n",
       "    </tr>\n",
       "  </tbody>\n",
       "</table>\n",
       "</div>"
      ],
      "text/plain": [
       "           nct_id   drug_mesh            cond_mesh  mesh_type\n",
       "1558  NCT02987985  Gabapentin  Depressive Disorder  mesh-list"
      ]
     },
     "metadata": {},
     "output_type": "display_data"
    },
    {
     "data": {
      "text/html": [
       "<div>\n",
       "<style scoped>\n",
       "    .dataframe tbody tr th:only-of-type {\n",
       "        vertical-align: middle;\n",
       "    }\n",
       "\n",
       "    .dataframe tbody tr th {\n",
       "        vertical-align: top;\n",
       "    }\n",
       "\n",
       "    .dataframe thead th {\n",
       "        text-align: right;\n",
       "    }\n",
       "</style>\n",
       "<table border=\"1\" class=\"dataframe\">\n",
       "  <thead>\n",
       "    <tr style=\"text-align: right;\">\n",
       "      <th></th>\n",
       "      <th>nct_id</th>\n",
       "      <th>drug_mesh</th>\n",
       "      <th>cond_mesh</th>\n",
       "      <th>mesh_type</th>\n",
       "    </tr>\n",
       "  </thead>\n",
       "  <tbody>\n",
       "    <tr>\n",
       "      <th>524</th>\n",
       "      <td>NCT03476538</td>\n",
       "      <td>Gabapentin</td>\n",
       "      <td>Obesity</td>\n",
       "      <td>mesh-ancestor</td>\n",
       "    </tr>\n",
       "    <tr>\n",
       "      <th>2013</th>\n",
       "      <td>NCT00886236</td>\n",
       "      <td>Gabapentin</td>\n",
       "      <td>Obesity</td>\n",
       "      <td>mesh-ancestor</td>\n",
       "    </tr>\n",
       "  </tbody>\n",
       "</table>\n",
       "</div>"
      ],
      "text/plain": [
       "           nct_id   drug_mesh cond_mesh      mesh_type\n",
       "524   NCT03476538  Gabapentin   Obesity  mesh-ancestor\n",
       "2013  NCT00886236  Gabapentin   Obesity  mesh-ancestor"
      ]
     },
     "metadata": {},
     "output_type": "display_data"
    },
    {
     "data": {
      "text/html": [
       "<div>\n",
       "<style scoped>\n",
       "    .dataframe tbody tr th:only-of-type {\n",
       "        vertical-align: middle;\n",
       "    }\n",
       "\n",
       "    .dataframe tbody tr th {\n",
       "        vertical-align: top;\n",
       "    }\n",
       "\n",
       "    .dataframe thead th {\n",
       "        text-align: right;\n",
       "    }\n",
       "</style>\n",
       "<table border=\"1\" class=\"dataframe\">\n",
       "  <thead>\n",
       "    <tr style=\"text-align: right;\">\n",
       "      <th></th>\n",
       "      <th>nct_id</th>\n",
       "      <th>drug_mesh</th>\n",
       "      <th>cond_mesh</th>\n",
       "      <th>mesh_type</th>\n",
       "    </tr>\n",
       "  </thead>\n",
       "  <tbody>\n",
       "    <tr>\n",
       "      <th>1553</th>\n",
       "      <td>NCT02987985</td>\n",
       "      <td>Gabapentin</td>\n",
       "      <td>Sleep Apnea, Obstructive</td>\n",
       "      <td>mesh-list</td>\n",
       "    </tr>\n",
       "  </tbody>\n",
       "</table>\n",
       "</div>"
      ],
      "text/plain": [
       "           nct_id   drug_mesh                 cond_mesh  mesh_type\n",
       "1553  NCT02987985  Gabapentin  Sleep Apnea, Obstructive  mesh-list"
      ]
     },
     "metadata": {},
     "output_type": "display_data"
    },
    {
     "data": {
      "text/html": [
       "<div>\n",
       "<style scoped>\n",
       "    .dataframe tbody tr th:only-of-type {\n",
       "        vertical-align: middle;\n",
       "    }\n",
       "\n",
       "    .dataframe tbody tr th {\n",
       "        vertical-align: top;\n",
       "    }\n",
       "\n",
       "    .dataframe thead th {\n",
       "        text-align: right;\n",
       "    }\n",
       "</style>\n",
       "<table border=\"1\" class=\"dataframe\">\n",
       "  <thead>\n",
       "    <tr style=\"text-align: right;\">\n",
       "      <th></th>\n",
       "      <th>nct_id</th>\n",
       "      <th>drug_mesh</th>\n",
       "      <th>cond_mesh</th>\n",
       "      <th>mesh_type</th>\n",
       "    </tr>\n",
       "  </thead>\n",
       "  <tbody>\n",
       "    <tr>\n",
       "      <th>322</th>\n",
       "      <td>NCT04700592</td>\n",
       "      <td>Gabapentin</td>\n",
       "      <td>Hernia, Inguinal</td>\n",
       "      <td>mesh-list</td>\n",
       "    </tr>\n",
       "    <tr>\n",
       "      <th>744</th>\n",
       "      <td>NCT02419443</td>\n",
       "      <td>Gabapentin</td>\n",
       "      <td>Hernia, Inguinal</td>\n",
       "      <td>mesh-list</td>\n",
       "    </tr>\n",
       "    <tr>\n",
       "      <th>1114</th>\n",
       "      <td>NCT00735124</td>\n",
       "      <td>Gabapentin</td>\n",
       "      <td>Hernia, Inguinal</td>\n",
       "      <td>mesh-list</td>\n",
       "    </tr>\n",
       "  </tbody>\n",
       "</table>\n",
       "</div>"
      ],
      "text/plain": [
       "           nct_id   drug_mesh         cond_mesh  mesh_type\n",
       "322   NCT04700592  Gabapentin  Hernia, Inguinal  mesh-list\n",
       "744   NCT02419443  Gabapentin  Hernia, Inguinal  mesh-list\n",
       "1114  NCT00735124  Gabapentin  Hernia, Inguinal  mesh-list"
      ]
     },
     "metadata": {},
     "output_type": "display_data"
    },
    {
     "data": {
      "text/html": [
       "<div>\n",
       "<style scoped>\n",
       "    .dataframe tbody tr th:only-of-type {\n",
       "        vertical-align: middle;\n",
       "    }\n",
       "\n",
       "    .dataframe tbody tr th {\n",
       "        vertical-align: top;\n",
       "    }\n",
       "\n",
       "    .dataframe thead th {\n",
       "        text-align: right;\n",
       "    }\n",
       "</style>\n",
       "<table border=\"1\" class=\"dataframe\">\n",
       "  <thead>\n",
       "    <tr style=\"text-align: right;\">\n",
       "      <th></th>\n",
       "      <th>nct_id</th>\n",
       "      <th>drug_mesh</th>\n",
       "      <th>cond_mesh</th>\n",
       "      <th>mesh_type</th>\n",
       "    </tr>\n",
       "  </thead>\n",
       "  <tbody>\n",
       "    <tr>\n",
       "      <th>621</th>\n",
       "      <td>NCT03088306</td>\n",
       "      <td>Gabapentin</td>\n",
       "      <td>Spinal Stenosis</td>\n",
       "      <td>mesh-list</td>\n",
       "    </tr>\n",
       "    <tr>\n",
       "      <th>1951</th>\n",
       "      <td>NCT01127100</td>\n",
       "      <td>Gabapentin</td>\n",
       "      <td>Spinal Stenosis</td>\n",
       "      <td>mesh-list</td>\n",
       "    </tr>\n",
       "  </tbody>\n",
       "</table>\n",
       "</div>"
      ],
      "text/plain": [
       "           nct_id   drug_mesh        cond_mesh  mesh_type\n",
       "621   NCT03088306  Gabapentin  Spinal Stenosis  mesh-list\n",
       "1951  NCT01127100  Gabapentin  Spinal Stenosis  mesh-list"
      ]
     },
     "metadata": {},
     "output_type": "display_data"
    }
   ],
   "source": [
    "get_AACT_matches(diag_MeSH_dict0)"
   ]
  },
  {
   "cell_type": "code",
   "execution_count": 50,
   "id": "6ec393b6",
   "metadata": {
    "collapsed": true
   },
   "outputs": [
    {
     "data": {
      "text/html": [
       "<div>\n",
       "<style scoped>\n",
       "    .dataframe tbody tr th:only-of-type {\n",
       "        vertical-align: middle;\n",
       "    }\n",
       "\n",
       "    .dataframe tbody tr th {\n",
       "        vertical-align: top;\n",
       "    }\n",
       "\n",
       "    .dataframe thead th {\n",
       "        text-align: right;\n",
       "    }\n",
       "</style>\n",
       "<table border=\"1\" class=\"dataframe\">\n",
       "  <thead>\n",
       "    <tr style=\"text-align: right;\">\n",
       "      <th></th>\n",
       "      <th>nct_id</th>\n",
       "      <th>drug_mesh</th>\n",
       "      <th>cond_mesh</th>\n",
       "      <th>mesh_type</th>\n",
       "    </tr>\n",
       "  </thead>\n",
       "  <tbody>\n",
       "    <tr>\n",
       "      <th>524</th>\n",
       "      <td>NCT03476538</td>\n",
       "      <td>Gabapentin</td>\n",
       "      <td>Obesity</td>\n",
       "      <td>mesh-ancestor</td>\n",
       "    </tr>\n",
       "    <tr>\n",
       "      <th>2013</th>\n",
       "      <td>NCT00886236</td>\n",
       "      <td>Gabapentin</td>\n",
       "      <td>Obesity</td>\n",
       "      <td>mesh-ancestor</td>\n",
       "    </tr>\n",
       "  </tbody>\n",
       "</table>\n",
       "</div>"
      ],
      "text/plain": [
       "           nct_id   drug_mesh cond_mesh      mesh_type\n",
       "524   NCT03476538  Gabapentin   Obesity  mesh-ancestor\n",
       "2013  NCT00886236  Gabapentin   Obesity  mesh-ancestor"
      ]
     },
     "metadata": {},
     "output_type": "display_data"
    },
    {
     "data": {
      "text/html": [
       "<div>\n",
       "<style scoped>\n",
       "    .dataframe tbody tr th:only-of-type {\n",
       "        vertical-align: middle;\n",
       "    }\n",
       "\n",
       "    .dataframe tbody tr th {\n",
       "        vertical-align: top;\n",
       "    }\n",
       "\n",
       "    .dataframe thead th {\n",
       "        text-align: right;\n",
       "    }\n",
       "</style>\n",
       "<table border=\"1\" class=\"dataframe\">\n",
       "  <thead>\n",
       "    <tr style=\"text-align: right;\">\n",
       "      <th></th>\n",
       "      <th>nct_id</th>\n",
       "      <th>drug_mesh</th>\n",
       "      <th>cond_mesh</th>\n",
       "      <th>mesh_type</th>\n",
       "    </tr>\n",
       "  </thead>\n",
       "  <tbody>\n",
       "    <tr>\n",
       "      <th>623</th>\n",
       "      <td>NCT03088306</td>\n",
       "      <td>Gabapentin</td>\n",
       "      <td>Bone Diseases</td>\n",
       "      <td>mesh-ancestor</td>\n",
       "    </tr>\n",
       "    <tr>\n",
       "      <th>802</th>\n",
       "      <td>NCT02120703</td>\n",
       "      <td>Gabapentin</td>\n",
       "      <td>Bone Diseases</td>\n",
       "      <td>mesh-ancestor</td>\n",
       "    </tr>\n",
       "    <tr>\n",
       "      <th>1031</th>\n",
       "      <td>NCT01014520</td>\n",
       "      <td>Gabapentin</td>\n",
       "      <td>Bone Diseases</td>\n",
       "      <td>mesh-ancestor</td>\n",
       "    </tr>\n",
       "    <tr>\n",
       "      <th>1392</th>\n",
       "      <td>NCT03867240</td>\n",
       "      <td>Gabapentin</td>\n",
       "      <td>Bone Diseases</td>\n",
       "      <td>mesh-ancestor</td>\n",
       "    </tr>\n",
       "    <tr>\n",
       "      <th>1959</th>\n",
       "      <td>NCT01127100</td>\n",
       "      <td>Gabapentin</td>\n",
       "      <td>Bone Diseases</td>\n",
       "      <td>mesh-ancestor</td>\n",
       "    </tr>\n",
       "    <tr>\n",
       "      <th>2049</th>\n",
       "      <td>NCT00684112</td>\n",
       "      <td>Gabapentin</td>\n",
       "      <td>Bone Diseases</td>\n",
       "      <td>mesh-ancestor</td>\n",
       "    </tr>\n",
       "  </tbody>\n",
       "</table>\n",
       "</div>"
      ],
      "text/plain": [
       "           nct_id   drug_mesh      cond_mesh      mesh_type\n",
       "623   NCT03088306  Gabapentin  Bone Diseases  mesh-ancestor\n",
       "802   NCT02120703  Gabapentin  Bone Diseases  mesh-ancestor\n",
       "1031  NCT01014520  Gabapentin  Bone Diseases  mesh-ancestor\n",
       "1392  NCT03867240  Gabapentin  Bone Diseases  mesh-ancestor\n",
       "1959  NCT01127100  Gabapentin  Bone Diseases  mesh-ancestor\n",
       "2049  NCT00684112  Gabapentin  Bone Diseases  mesh-ancestor"
      ]
     },
     "metadata": {},
     "output_type": "display_data"
    },
    {
     "data": {
      "text/html": [
       "<div>\n",
       "<style scoped>\n",
       "    .dataframe tbody tr th:only-of-type {\n",
       "        vertical-align: middle;\n",
       "    }\n",
       "\n",
       "    .dataframe tbody tr th {\n",
       "        vertical-align: top;\n",
       "    }\n",
       "\n",
       "    .dataframe thead th {\n",
       "        text-align: right;\n",
       "    }\n",
       "</style>\n",
       "<table border=\"1\" class=\"dataframe\">\n",
       "  <thead>\n",
       "    <tr style=\"text-align: right;\">\n",
       "      <th></th>\n",
       "      <th>nct_id</th>\n",
       "      <th>drug_mesh</th>\n",
       "      <th>cond_mesh</th>\n",
       "      <th>mesh_type</th>\n",
       "    </tr>\n",
       "  </thead>\n",
       "  <tbody>\n",
       "    <tr>\n",
       "      <th>2</th>\n",
       "      <td>NCT00619983</td>\n",
       "      <td>Gabapentin</td>\n",
       "      <td>Back Pain</td>\n",
       "      <td>mesh-list</td>\n",
       "    </tr>\n",
       "    <tr>\n",
       "      <th>240</th>\n",
       "      <td>NCT00108550</td>\n",
       "      <td>Gabapentin</td>\n",
       "      <td>Back Pain</td>\n",
       "      <td>mesh-list</td>\n",
       "    </tr>\n",
       "  </tbody>\n",
       "</table>\n",
       "</div>"
      ],
      "text/plain": [
       "          nct_id   drug_mesh  cond_mesh  mesh_type\n",
       "2    NCT00619983  Gabapentin  Back Pain  mesh-list\n",
       "240  NCT00108550  Gabapentin  Back Pain  mesh-list"
      ]
     },
     "metadata": {},
     "output_type": "display_data"
    }
   ],
   "source": [
    "get_AACT_matches(diag_MeSH_dict390)"
   ]
  },
  {
   "cell_type": "markdown",
   "id": "9e66e6e1",
   "metadata": {},
   "source": [
    "## 3c. MIMIC NDC codes to RxNorm Ingredient\n",
    "MIMIC drug codes are documented as NDC codes. We convert these NDC codes to RxNorm ingredient, then convert them to NDFRT codes that contain indication information from OMOP.\n",
    "\n",
    "For Diagnosis information, SNOMED terms must be converted to NDFRT terms to find matching."
   ]
  },
  {
   "cell_type": "code",
   "execution_count": 141,
   "id": "26614924",
   "metadata": {},
   "outputs": [],
   "source": [
    "import concept_mapping"
   ]
  },
  {
   "cell_type": "markdown",
   "id": "5a55b80f",
   "metadata": {},
   "source": [
    "#### Part I : Converting Drug codes to RxNorm, then to NDFRT codes"
   ]
  },
  {
   "cell_type": "code",
   "execution_count": 177,
   "id": "ccf0da37",
   "metadata": {},
   "outputs": [],
   "source": [
    "# Drug dictionary that stores the standard RxNorm codes for the given drugs\n",
    "# Used if we were to traverse across drugs (to find related other ndc codes)\n",
    "# NDC codes --> RxNorm standard \n",
    "def NDC_RxNorm(drugslist):\n",
    "    std_drug_dict = {}\n",
    "    for i in range(drugslist.shape[0]):\n",
    "        drug = drugslist.loc[i,'drug']\n",
    "        ndc = drugslist.loc[i, 'ndc']\n",
    "\n",
    "        # ndc = 0 means there is no ndc code\n",
    "        if ndc == '0':\n",
    "            continue\n",
    "        ndc_id = concept.loc[concept.concept_code == ndc, 'concept_id']\n",
    "\n",
    "        if len(ndc_id) == 0: # there is no matching standard\n",
    "            continue\n",
    "        ndc_id = ndc_id.item()\n",
    "        standard_id = concept_mapping.maps_to(concept_relationship, ndc_id)\n",
    "        ingredient = concept_mapping.find_ingredient(drug)\n",
    "        # if rxnorm ingredient cannot be found directly, manually find via relationships\n",
    "        if len(ingredient) == 0 or len(ingredient) > 1: \n",
    "            ingredient = [concept_mapping.find_ingredient2(standard_id)]\n",
    "\n",
    "        if drug not in std_drug_dict: \n",
    "            std_drug_dict[drug] = ingredient\n",
    "    return std_drug_dict"
   ]
  },
  {
   "cell_type": "code",
   "execution_count": 181,
   "id": "45b5869e",
   "metadata": {
    "scrolled": true
   },
   "outputs": [],
   "source": [
    "rxnorm0 = NDC_RxNorm(drugs0)"
   ]
  },
  {
   "cell_type": "code",
   "execution_count": 179,
   "id": "a3f4cc5d",
   "metadata": {},
   "outputs": [],
   "source": [
    "rxnorm390 = NDC_RxNorm(drugs390)\n",
    "rxnorm40007 = NDC_RxNorm(drugs40007)"
   ]
  },
  {
   "cell_type": "code",
   "execution_count": 195,
   "id": "2426a881",
   "metadata": {},
   "outputs": [
    {
     "data": {
      "text/plain": [
       "{'Acetaminophen': [1125315],\n",
       " 'Docusate Sodium': [19126912],\n",
       " 'Senna': [938268],\n",
       " 'OxyCODONE (Immediate Release)': [1124957],\n",
       " 'Gabapentin': [797399],\n",
       " 'Tamsulosin': [924566],\n",
       " 'Heparin': [1367571],\n",
       " 'BuPROPion XL (Once Daily)': [40221871],\n",
       " 'Warfarin': [1310149],\n",
       " 'Ketorolac': [1136980]}"
      ]
     },
     "execution_count": 195,
     "metadata": {},
     "output_type": "execute_result"
    }
   ],
   "source": [
    "rxnorm0"
   ]
  },
  {
   "cell_type": "code",
   "execution_count": 211,
   "id": "7df1fb3f",
   "metadata": {},
   "outputs": [],
   "source": [
    "# Finding the NDFRT equivalent of that rxnorm ingredient, necessary for the treat relationships\n",
    "# Find mapping code in concept_mapping.py\n",
    "# Takes in rxnorm ingredient list, returns dictionary of ndfrt equivalents\n",
    "\n",
    "def all_ndfrt(rxnorm_list):\n",
    "    ndfrt_list = {}\n",
    "    for drug in rxnorm_list.keys():\n",
    "        rxnorm = rxnorm_list[drug][0]\n",
    "        ndfrt = concept_mapping.find_NDFRT(rxnorm)\n",
    "        if ndfrt == None:\n",
    "            print(drug, \"doesn't have ndfrt equivalent\")\n",
    "            continue\n",
    "        if drug not in ndfrt_list:\n",
    "            ndfrt_list[drug] = ndfrt\n",
    "    return ndfrt_list"
   ]
  },
  {
   "cell_type": "code",
   "execution_count": 217,
   "id": "f51679e7",
   "metadata": {
    "scrolled": false
   },
   "outputs": [
    {
     "name": "stdout",
     "output_type": "stream",
     "text": [
      "BuPROPion XL (Once Daily) doesn't have ndfrt equivalent\n",
      "Multivitamins doesn't have ndfrt equivalent\n",
      "Topiramate (Topamax) doesn't have ndfrt equivalent\n",
      "Hydrocortisone Cream 2.5% doesn't have ndfrt equivalent\n",
      "PNEUMOcoccal 23-valent polysaccharide vaccine doesn't have ndfrt equivalent\n",
      "Polyethylene Glycol doesn't have ndfrt equivalent\n"
     ]
    }
   ],
   "source": [
    "ndfrt0 = all_ndfrt(rxnorm0)\n",
    "ndfrt390 = all_ndfrt(rxnorm390)\n",
    "ndfrt40007 = all_ndfrt(rxnorm40007)"
   ]
  },
  {
   "cell_type": "code",
   "execution_count": 228,
   "id": "9434af8c",
   "metadata": {
    "scrolled": true
   },
   "outputs": [
    {
     "data": {
      "text/plain": [
       "{'Acetaminophen': [4287137, 4350076],\n",
       " 'Docusate Sodium': [4292316, 40182085],\n",
       " 'Senna': [4272742, 4293852, 40180868],\n",
       " 'OxyCODONE (Immediate Release)': [4293104, 4325316],\n",
       " 'Gabapentin': [4272456, 4351183],\n",
       " 'Tamsulosin': [4274667, 4325341],\n",
       " 'Heparin': [4272103, 4348060],\n",
       " 'Warfarin': [4293218, 4325514],\n",
       " 'Ketorolac': [4349348, 40180393]}"
      ]
     },
     "execution_count": 228,
     "metadata": {},
     "output_type": "execute_result"
    }
   ],
   "source": [
    "ndfrt0"
   ]
  },
  {
   "cell_type": "code",
   "execution_count": 218,
   "id": "bc6a9c38",
   "metadata": {},
   "outputs": [],
   "source": [
    "# Flatten ndfrt dictionary to all the ndfrt codes for the drugs given to this patient \n",
    "def flattened_ndfrt(ndfrt_dict):\n",
    "    return [item for sublist in ndfrt_dict.values() for item in sublist]"
   ]
  },
  {
   "cell_type": "code",
   "execution_count": 219,
   "id": "5f909381",
   "metadata": {},
   "outputs": [],
   "source": [
    "list0 = flattened_ndfrt(ndfrt0)\n",
    "list390 = flattened_ndfrt(ndfrt390)\n",
    "list40007 = flattened_ndfrt(ndfrt40007)"
   ]
  },
  {
   "cell_type": "markdown",
   "id": "275c342c",
   "metadata": {},
   "source": [
    "#### Part II: Find NDFRT codes for diagnosis"
   ]
  },
  {
   "cell_type": "code",
   "execution_count": 251,
   "id": "21d244ef",
   "metadata": {},
   "outputs": [],
   "source": [
    "# Utilize the same nonstandard mapping, but we want NDFRT codes instead of SNOMED\n",
    "def all_related_NDFRT(std_dict):\n",
    "    related = {}\n",
    "    for icd in std_dict.keys():\n",
    "        std_codes = std_dict[icd]\n",
    "        for j in std_codes:\n",
    "            all_related = vocab.get_nonStandard_SNOMED(j)\n",
    "            all_related = all_related.loc[all_related.vocabulary_id == 'NDFRT','concept_id_2'].values.tolist()\n",
    "            if icd not in related:\n",
    "                related[icd] = all_related\n",
    "            else:\n",
    "                related[icd].extend(all_related)\n",
    "    return related"
   ]
  },
  {
   "cell_type": "code",
   "execution_count": 252,
   "id": "75bb7ff1",
   "metadata": {},
   "outputs": [],
   "source": [
    "all_ndfrt_0 = all_related_NDFRT(std_diag_dict0)\n",
    "all_ndfrt_390 = all_related_NDFRT(std_diag_dict390)\n",
    "all_ndfrt_40007 = all_related_NDFRT(std_diag_dict40007)"
   ]
  },
  {
   "cell_type": "code",
   "execution_count": 255,
   "id": "8831f840",
   "metadata": {},
   "outputs": [
    {
     "data": {
      "text/html": [
       "<div>\n",
       "<style scoped>\n",
       "    .dataframe tbody tr th:only-of-type {\n",
       "        vertical-align: middle;\n",
       "    }\n",
       "\n",
       "    .dataframe tbody tr th {\n",
       "        vertical-align: top;\n",
       "    }\n",
       "\n",
       "    .dataframe thead th {\n",
       "        text-align: right;\n",
       "    }\n",
       "</style>\n",
       "<table border=\"1\" class=\"dataframe\">\n",
       "  <thead>\n",
       "    <tr style=\"text-align: right;\">\n",
       "      <th></th>\n",
       "      <th>concept_id</th>\n",
       "      <th>concept_name</th>\n",
       "      <th>domain_id</th>\n",
       "      <th>vocabulary_id</th>\n",
       "      <th>concept_class_id</th>\n",
       "      <th>standard_concept</th>\n",
       "      <th>concept_code</th>\n",
       "      <th>valid_start_date</th>\n",
       "      <th>valid_end_date</th>\n",
       "      <th>invalid_reason</th>\n",
       "    </tr>\n",
       "  </thead>\n",
       "  <tbody>\n",
       "    <tr>\n",
       "      <th>6598144</th>\n",
       "      <td>201231</td>\n",
       "      <td>Malignant neoplasm of connective and soft tiss...</td>\n",
       "      <td>Condition</td>\n",
       "      <td>SNOMED</td>\n",
       "      <td>Clinical Finding</td>\n",
       "      <td>S</td>\n",
       "      <td>188019007</td>\n",
       "      <td>20020131</td>\n",
       "      <td>20991231</td>\n",
       "      <td>NaN</td>\n",
       "    </tr>\n",
       "  </tbody>\n",
       "</table>\n",
       "</div>"
      ],
      "text/plain": [
       "         concept_id                                       concept_name  \\\n",
       "6598144      201231  Malignant neoplasm of connective and soft tiss...   \n",
       "\n",
       "         domain_id vocabulary_id  concept_class_id standard_concept  \\\n",
       "6598144  Condition        SNOMED  Clinical Finding                S   \n",
       "\n",
       "        concept_code  valid_start_date  valid_end_date invalid_reason  \n",
       "6598144    188019007          20020131        20991231            NaN  "
      ]
     },
     "execution_count": 255,
     "metadata": {},
     "output_type": "execute_result"
    }
   ],
   "source": [
    "concept.loc[concept.concept_id == 201231]"
   ]
  },
  {
   "cell_type": "code",
   "execution_count": 256,
   "id": "24f528ca",
   "metadata": {},
   "outputs": [
    {
     "data": {
      "text/html": [
       "<div>\n",
       "<style scoped>\n",
       "    .dataframe tbody tr th:only-of-type {\n",
       "        vertical-align: middle;\n",
       "    }\n",
       "\n",
       "    .dataframe tbody tr th {\n",
       "        vertical-align: top;\n",
       "    }\n",
       "\n",
       "    .dataframe thead th {\n",
       "        text-align: right;\n",
       "    }\n",
       "</style>\n",
       "<table border=\"1\" class=\"dataframe\">\n",
       "  <thead>\n",
       "    <tr style=\"text-align: right;\">\n",
       "      <th></th>\n",
       "      <th>index</th>\n",
       "      <th>subject_id</th>\n",
       "      <th>hadm_id</th>\n",
       "      <th>seq_num</th>\n",
       "      <th>icd_code</th>\n",
       "      <th>icd_version</th>\n",
       "      <th>long_title</th>\n",
       "    </tr>\n",
       "  </thead>\n",
       "  <tbody>\n",
       "    <tr>\n",
       "      <th>0</th>\n",
       "      <td>5170387</td>\n",
       "      <td>17868682</td>\n",
       "      <td>25218370</td>\n",
       "      <td>1</td>\n",
       "      <td>C495</td>\n",
       "      <td>10</td>\n",
       "      <td>Malignant neoplasm of connective and soft tiss...</td>\n",
       "    </tr>\n",
       "    <tr>\n",
       "      <th>1</th>\n",
       "      <td>4434573</td>\n",
       "      <td>17868682</td>\n",
       "      <td>25218370</td>\n",
       "      <td>2</td>\n",
       "      <td>G629</td>\n",
       "      <td>10</td>\n",
       "      <td>Polyneuropathy, unspecified</td>\n",
       "    </tr>\n",
       "    <tr>\n",
       "      <th>2</th>\n",
       "      <td>4316971</td>\n",
       "      <td>17868682</td>\n",
       "      <td>25218370</td>\n",
       "      <td>3</td>\n",
       "      <td>I482</td>\n",
       "      <td>10</td>\n",
       "      <td>Chronic atrial fibrillation</td>\n",
       "    </tr>\n",
       "    <tr>\n",
       "      <th>3</th>\n",
       "      <td>4084054</td>\n",
       "      <td>17868682</td>\n",
       "      <td>25218370</td>\n",
       "      <td>4</td>\n",
       "      <td>I340</td>\n",
       "      <td>10</td>\n",
       "      <td>Nonrheumatic mitral (valve) insufficiency</td>\n",
       "    </tr>\n",
       "    <tr>\n",
       "      <th>4</th>\n",
       "      <td>3547038</td>\n",
       "      <td>17868682</td>\n",
       "      <td>25218370</td>\n",
       "      <td>5</td>\n",
       "      <td>F329</td>\n",
       "      <td>10</td>\n",
       "      <td>Major depressive disorder, single episode, uns...</td>\n",
       "    </tr>\n",
       "    <tr>\n",
       "      <th>5</th>\n",
       "      <td>3209088</td>\n",
       "      <td>17868682</td>\n",
       "      <td>25218370</td>\n",
       "      <td>6</td>\n",
       "      <td>E669</td>\n",
       "      <td>10</td>\n",
       "      <td>Obesity, unspecified</td>\n",
       "    </tr>\n",
       "    <tr>\n",
       "      <th>6</th>\n",
       "      <td>3804012</td>\n",
       "      <td>17868682</td>\n",
       "      <td>25218370</td>\n",
       "      <td>7</td>\n",
       "      <td>G4733</td>\n",
       "      <td>10</td>\n",
       "      <td>Obstructive sleep apnea (adult) (pediatric)</td>\n",
       "    </tr>\n",
       "    <tr>\n",
       "      <th>7</th>\n",
       "      <td>4563330</td>\n",
       "      <td>17868682</td>\n",
       "      <td>25218370</td>\n",
       "      <td>8</td>\n",
       "      <td>K4090</td>\n",
       "      <td>10</td>\n",
       "      <td>Unilateral inguinal hernia, without obstructio...</td>\n",
       "    </tr>\n",
       "    <tr>\n",
       "      <th>8</th>\n",
       "      <td>5213438</td>\n",
       "      <td>17868682</td>\n",
       "      <td>25218370</td>\n",
       "      <td>9</td>\n",
       "      <td>N503</td>\n",
       "      <td>10</td>\n",
       "      <td>Cyst of epididymis</td>\n",
       "    </tr>\n",
       "    <tr>\n",
       "      <th>9</th>\n",
       "      <td>4987217</td>\n",
       "      <td>17868682</td>\n",
       "      <td>25218370</td>\n",
       "      <td>10</td>\n",
       "      <td>R590</td>\n",
       "      <td>10</td>\n",
       "      <td>Localized enlarged lymph nodes</td>\n",
       "    </tr>\n",
       "    <tr>\n",
       "      <th>10</th>\n",
       "      <td>3465832</td>\n",
       "      <td>17868682</td>\n",
       "      <td>25218370</td>\n",
       "      <td>11</td>\n",
       "      <td>Z7901</td>\n",
       "      <td>10</td>\n",
       "      <td>Long term (current) use of anticoagulants</td>\n",
       "    </tr>\n",
       "    <tr>\n",
       "      <th>11</th>\n",
       "      <td>4755648</td>\n",
       "      <td>17868682</td>\n",
       "      <td>25218370</td>\n",
       "      <td>12</td>\n",
       "      <td>M4800</td>\n",
       "      <td>10</td>\n",
       "      <td>Spinal stenosis, site unspecified</td>\n",
       "    </tr>\n",
       "    <tr>\n",
       "      <th>12</th>\n",
       "      <td>3145442</td>\n",
       "      <td>17868682</td>\n",
       "      <td>25218370</td>\n",
       "      <td>13</td>\n",
       "      <td>Z6833</td>\n",
       "      <td>10</td>\n",
       "      <td>Body mass index (BMI) 33.0-33.9, adult</td>\n",
       "    </tr>\n",
       "    <tr>\n",
       "      <th>13</th>\n",
       "      <td>4231372</td>\n",
       "      <td>17868682</td>\n",
       "      <td>25218370</td>\n",
       "      <td>14</td>\n",
       "      <td>R911</td>\n",
       "      <td>10</td>\n",
       "      <td>Solitary pulmonary nodule</td>\n",
       "    </tr>\n",
       "    <tr>\n",
       "      <th>14</th>\n",
       "      <td>3135756</td>\n",
       "      <td>17868682</td>\n",
       "      <td>25218370</td>\n",
       "      <td>15</td>\n",
       "      <td>Z85828</td>\n",
       "      <td>10</td>\n",
       "      <td>Personal history of other malignant neoplasm o...</td>\n",
       "    </tr>\n",
       "  </tbody>\n",
       "</table>\n",
       "</div>"
      ],
      "text/plain": [
       "      index  subject_id   hadm_id  seq_num icd_code  icd_version  \\\n",
       "0   5170387    17868682  25218370        1     C495           10   \n",
       "1   4434573    17868682  25218370        2     G629           10   \n",
       "2   4316971    17868682  25218370        3     I482           10   \n",
       "3   4084054    17868682  25218370        4     I340           10   \n",
       "4   3547038    17868682  25218370        5     F329           10   \n",
       "5   3209088    17868682  25218370        6     E669           10   \n",
       "6   3804012    17868682  25218370        7    G4733           10   \n",
       "7   4563330    17868682  25218370        8    K4090           10   \n",
       "8   5213438    17868682  25218370        9     N503           10   \n",
       "9   4987217    17868682  25218370       10     R590           10   \n",
       "10  3465832    17868682  25218370       11    Z7901           10   \n",
       "11  4755648    17868682  25218370       12    M4800           10   \n",
       "12  3145442    17868682  25218370       13    Z6833           10   \n",
       "13  4231372    17868682  25218370       14     R911           10   \n",
       "14  3135756    17868682  25218370       15   Z85828           10   \n",
       "\n",
       "                                           long_title  \n",
       "0   Malignant neoplasm of connective and soft tiss...  \n",
       "1                         Polyneuropathy, unspecified  \n",
       "2                         Chronic atrial fibrillation  \n",
       "3           Nonrheumatic mitral (valve) insufficiency  \n",
       "4   Major depressive disorder, single episode, uns...  \n",
       "5                                Obesity, unspecified  \n",
       "6         Obstructive sleep apnea (adult) (pediatric)  \n",
       "7   Unilateral inguinal hernia, without obstructio...  \n",
       "8                                  Cyst of epididymis  \n",
       "9                      Localized enlarged lymph nodes  \n",
       "10          Long term (current) use of anticoagulants  \n",
       "11                  Spinal stenosis, site unspecified  \n",
       "12             Body mass index (BMI) 33.0-33.9, adult  \n",
       "13                          Solitary pulmonary nodule  \n",
       "14  Personal history of other malignant neoplasm o...  "
      ]
     },
     "execution_count": 256,
     "metadata": {},
     "output_type": "execute_result"
    }
   ],
   "source": [
    "diagnoses0"
   ]
  },
  {
   "cell_type": "code",
   "execution_count": 183,
   "id": "11061aea",
   "metadata": {},
   "outputs": [],
   "source": [
    "#concept.loc[concept.concept_id == 4272456]\n",
    "# Takes a list of NDFRT drug codes and returns all the NDFRT diagnosis codes that may be treated by the drug\n",
    "def omop_indications(ndfrt_list):\n",
    "    indications = []\n",
    "    for i in range(len(ndfrt_list)):\n",
    "        concepts = concept_relationship.loc[(concept_relationship.concept_id_1 == ndfrt_list[i]) & \n",
    "                         (concept_relationship.relationship_id == 'May treat'), 'concept_id_2'].values.tolist()\n",
    "        indications.extend(concepts)\n",
    "    return indications"
   ]
  },
  {
   "cell_type": "code",
   "execution_count": 220,
   "id": "1d86c4d8",
   "metadata": {},
   "outputs": [],
   "source": [
    "omop_list0 = omop_indications(list0)\n",
    "omop_list390 = omop_indications(list390)\n",
    "omop_list40007 = omop_indications(list40007)"
   ]
  },
  {
   "cell_type": "code",
   "execution_count": 269,
   "id": "23fa344c",
   "metadata": {},
   "outputs": [],
   "source": [
    "# Now, we try to map these NDFRT indications back to SNOMED so that we can compare with our diagnoses\n",
    "def ndfrt_SNOMED(ndfrt_list):\n",
    "    snomed_list = []\n",
    "    for ndfrt in ndfrt_list:\n",
    "        snomed = concept_relationship.loc[(concept_relationship.concept_id_1 == ndfrt)&\n",
    "                        (concept_relationship.relationship_id == 'Ind/CI - SNOMED'), 'concept_id_2'].values.tolist()\n",
    "        snomed_list.extend(snomed)\n",
    "    return snomed_list"
   ]
  },
  {
   "cell_type": "code",
   "execution_count": 271,
   "id": "817676c2",
   "metadata": {},
   "outputs": [],
   "source": [
    "snomed_indications0 = ndfrt_SNOMED(omop_list0)\n",
    "snomed_indications390 = ndfrt_SNOMED(omop_list390)\n",
    "snomed_indications40007 = ndfrt_SNOMED(omop_list40007)"
   ]
  },
  {
   "cell_type": "code",
   "execution_count": 221,
   "id": "ae541df5",
   "metadata": {},
   "outputs": [],
   "source": [
    "# Asking if there are matches in S\n",
    "def find_omop_matches(diag_list, omop_list):\n",
    "    for icd in diag_list.keys():\n",
    "        std_codes = diag_list[icd]\n",
    "        for j in std_codes:\n",
    "            if j in omop_list:\n",
    "                print(\"OMOP reported indication relationship for \", j)"
   ]
  },
  {
   "cell_type": "code",
   "execution_count": 275,
   "id": "55c32f91",
   "metadata": {},
   "outputs": [
    {
     "name": "stdout",
     "output_type": "stream",
     "text": [
      "OMOP reported indication relationship for  4101454\n",
      "OMOP reported indication relationship for  4101454\n",
      "OMOP reported indication relationship for  75860\n"
     ]
    }
   ],
   "source": [
    "find_omop_matches(all_snomed_0, snomed_indications0)\n",
    "find_omop_matches(all_snomed_390, snomed_indications390)\n",
    "find_omop_matches(all_snomed_40007, snomed_indications40007)\n",
    "## Sadly, OMOP doesn't match much with horizontal codes"
   ]
  },
  {
   "cell_type": "code",
   "execution_count": null,
   "id": "f819f35a",
   "metadata": {},
   "outputs": [],
   "source": []
  }
 ],
 "metadata": {
  "kernelspec": {
   "display_name": "Python 3",
   "language": "python",
   "name": "python3"
  },
  "language_info": {
   "codemirror_mode": {
    "name": "ipython",
    "version": 3
   },
   "file_extension": ".py",
   "mimetype": "text/x-python",
   "name": "python",
   "nbconvert_exporter": "python",
   "pygments_lexer": "ipython3",
   "version": "3.8.8"
  }
 },
 "nbformat": 4,
 "nbformat_minor": 5
}
