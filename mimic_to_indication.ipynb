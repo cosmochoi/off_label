{
 "cells": [
  {
   "cell_type": "code",
   "execution_count": 6,
   "id": "f5ba354f",
   "metadata": {},
   "outputs": [],
   "source": [
    "import pandas as pd\n",
    "import os\n",
    "import off_label\n",
    "import concept_mapping\n",
    "\n",
    "# get your current working directory\n",
    "os.getcwd()\n",
    "# set your working directory to the directory in which you have all your mimic data files\n",
    "os.chdir('/Users/yc3972/Desktop/DBMI/Courses/GD1_Fall/G4003 Symbolic Methods/Project/off_label')"
   ]
  },
  {
   "cell_type": "code",
   "execution_count": 2,
   "id": "a0379f02",
   "metadata": {},
   "outputs": [
    {
     "name": "stderr",
     "output_type": "stream",
     "text": [
      "/opt/homebrew/lib/python3.9/site-packages/IPython/core/interactiveshell.py:3441: DtypeWarning: Columns (6,9) have mixed types.Specify dtype option on import or set low_memory=False.\n",
      "  exec(code_obj, self.user_global_ns, self.user_ns)\n",
      "/opt/homebrew/lib/python3.9/site-packages/IPython/core/interactiveshell.py:3441: DtypeWarning: Columns (5,6,9) have mixed types.Specify dtype option on import or set low_memory=False.\n",
      "  exec(code_obj, self.user_global_ns, self.user_ns)\n"
     ]
    }
   ],
   "source": [
    "# MIMIC stores drug data as NDC codes\n",
    "drug_concept = pd.read_csv('./data/DRUG_VOCAB/CONCEPT.csv', sep = '\\t', header = 0)\n",
    "# What is the corresponding RxNorm standard code for that drug?\n",
    "drug_mapping = pd.read_csv('./data/DRUG_VOCAB/CONCEPT_RELATIONSHIP.csv', sep = '\\t', header = 0)\n",
    "# ICD_SNOMED mapping\n",
    "diag_concept = pd.read_csv('./data/SNOMED_ICD/CONCEPT.csv', sep = '\\t', header = 0)\n",
    "diag_mapping = pd.read_csv('./data/SNOMED_ICD/CONCEPT_RELATIONSHIP.csv', sep = '\\t', header = 0)"
   ]
  },
  {
   "cell_type": "code",
   "execution_count": 3,
   "id": "8adf4b9b",
   "metadata": {},
   "outputs": [
    {
     "name": "stdout",
     "output_type": "stream",
     "text": [
      "Searching for Patient 17868682 who has been given Gabapentin , for visit number 25218370.\n"
     ]
    }
   ],
   "source": [
    "diagnoses, drugs = off_label.returning_lists('Gabapentin') "
   ]
  },
  {
   "cell_type": "markdown",
   "id": "9e66e6e1",
   "metadata": {},
   "source": [
    "### MIMIC NDC codes to RxNorm Ingredient"
   ]
  },
  {
   "cell_type": "code",
   "execution_count": 15,
   "id": "ccf0da37",
   "metadata": {},
   "outputs": [],
   "source": [
    "# Finding Standard RxNorm codes for drugs list from OMOP vocab\n",
    "# Drug dictionary that stores the standard RxNorm codes for the given drugs\n",
    "# Used if we were to traverse across drugs (to find related other ndc codes)\n",
    "# NDC codes --> RxNorm standard --> all other related ndc codes that map to that RxNorm code\n",
    "std_drug_dict = {}\n",
    "for i in range(drugs.shape[0]):\n",
    "    drug = drugs.loc[i,'drug']\n",
    "    ndc = drugs.loc[i, 'ndc']\n",
    "\n",
    "    # ndc = 0 means there is no ndc code\n",
    "    if ndc == '0':\n",
    "        continue\n",
    "    ndc_id = drug_concept.loc[drug_concept.concept_code == ndc, 'concept_id']\n",
    "    \n",
    "    if len(ndc_id) == 0: # there is no matching standard\n",
    "        continue\n",
    "    ndc_id = ndc_id.item()\n",
    "    standard_id = concept_mapping.maps_to(drug_mapping, ndc_id)\n",
    "    ingredient = concept_mapping.find_ingredient(drug)\n",
    "    # if rxnorm ingredient cannot be found directly, manually find via relationships\n",
    "    if len(ingredient) == 0 or len(ingredient) > 1: \n",
    "        ingredient = [concept_mapping.find_ingredient2(standard_id)]\n",
    "\n",
    "    if drug not in std_drug_dict: \n",
    "        std_drug_dict[drug] = ingredient"
   ]
  },
  {
   "cell_type": "code",
   "execution_count": 16,
   "id": "45b5869e",
   "metadata": {
    "scrolled": true
   },
   "outputs": [
    {
     "data": {
      "text/plain": [
       "{'Acetaminophen': [1125315],\n",
       " 'Docusate Sodium': [19126912],\n",
       " 'Senna': [938268],\n",
       " 'OxyCODONE (Immediate Release)': [1124957],\n",
       " 'Gabapentin': [797399],\n",
       " 'Tamsulosin': [924566],\n",
       " 'Heparin': [1367571],\n",
       " 'Ondansetron': [1000560],\n",
       " 'BuPROPion XL (Once Daily)': [40221871],\n",
       " 'Warfarin': [1310149],\n",
       " 'Ketorolac': [1136980]}"
      ]
     },
     "execution_count": 16,
     "metadata": {},
     "output_type": "execute_result"
    }
   ],
   "source": [
    "std_drug_dict"
   ]
  },
  {
   "cell_type": "code",
   "execution_count": 18,
   "id": "7df1fb3f",
   "metadata": {},
   "outputs": [
    {
     "data": {
      "text/plain": [
       "[4272456, 4351183]"
      ]
     },
     "execution_count": 18,
     "metadata": {},
     "output_type": "execute_result"
    }
   ],
   "source": [
    "gaba_rxnorm = std_drug_dict['Gabapentin'][0]\n",
    "gaba_ndfrt = concept_mapping.find_NDFRT(gaba_rxnorm)\n",
    "gaba_ndfrt"
   ]
  },
  {
   "cell_type": "markdown",
   "id": "57144a3a",
   "metadata": {},
   "source": [
    "### Diagnosis ICD to OMOP codes"
   ]
  },
  {
   "cell_type": "code",
   "execution_count": 19,
   "id": "eb31593e",
   "metadata": {},
   "outputs": [],
   "source": [
    "# Standard SNOMED mappings for all the ICD diagnoses given to this patient\n",
    "# ICD codes --> OMOP stanadard codes --> SNOMED codes\n",
    "std_diag_dict = {}\n",
    "\n",
    "for i in range(diagnoses.shape[0]):\n",
    "    version = diagnoses.loc[i, 'icd_version']\n",
    "    version = 'ICD' + str(version)\n",
    "    code_str = diagnoses.loc[i,'icd_code']\n",
    "    code = '.'.join(code_str[i:i+3] for i in range(0, len(code_str), 3))\n",
    "    \n",
    "    icd_match = diag_concept.loc[(diag_concept.concept_code == code)]\n",
    "    if icd_match.shape[0] == 0:\n",
    "        print(\"No match of that diagnosis on OMOP\")\n",
    "        continue\n",
    "    # if both ICD and ICD CM match, then look for exact vocabulary source\n",
    "    if icd_match.shape[0] > 1: \n",
    "        icd_concept = icd_match.loc[icd_match.vocabulary_id == version, 'concept_id'].item()\n",
    "    # ICD may not match, but ICD CM might match. Use whatever we can\n",
    "    else: \n",
    "        icd_concept = icd_match['concept_id'].item()\n",
    "    \n",
    "    std_diag = diag_mapping.loc[(diag_mapping.concept_id_1 == icd_concept) & \n",
    "                     (diag_mapping.relationship_id == 'Maps to'), 'concept_id_2'].values.tolist()\n",
    "\n",
    "    given_diag = str(version) + \" \" + str(code) \n",
    "    if given_diag not in std_diag_dict: \n",
    "        std_diag_dict[given_diag] = std_diag"
   ]
  },
  {
   "cell_type": "code",
   "execution_count": 20,
   "id": "c602a36c",
   "metadata": {
    "scrolled": true
   },
   "outputs": [
    {
     "data": {
      "text/plain": [
       "{'ICD10 C49.5': [201231, 376647],\n",
       " 'ICD10 G62.9': [4174262],\n",
       " 'ICD10 I48.2': [4141360],\n",
       " 'ICD10 I34.0': [443962],\n",
       " 'ICD10 F32.9': [440383],\n",
       " 'ICD10 E66.9': [433736],\n",
       " 'ICD10 G47.33': [442588],\n",
       " 'ICD10 K40.90': [4288544],\n",
       " 'ICD10 N50.3': [4181782],\n",
       " 'ICD10 R59.0': [4168700],\n",
       " 'ICD10 Z79.01': [46273937],\n",
       " 'ICD10 M48.00': [77079],\n",
       " 'ICD10 Z68.33': [4060985],\n",
       " 'ICD10 R91.1': [4142875],\n",
       " 'ICD10 Z85.828': [4179242]}"
      ]
     },
     "execution_count": 20,
     "metadata": {},
     "output_type": "execute_result"
    }
   ],
   "source": [
    "std_diag_dict"
   ]
  },
  {
   "cell_type": "code",
   "execution_count": 52,
   "id": "39307d64",
   "metadata": {},
   "outputs": [],
   "source": [
    "snomed_diag = {}\n",
    "snomed_list = []\n",
    "for diag in std_diag_dict.keys():\n",
    "    omop_codes = std_diag_dict[diag]\n",
    "    for i in range(len(omop_codes)):\n",
    "        snomed_code = diag_concept.loc[(diag_concept.concept_id == omop_codes[i]) & \n",
    "                                      (diag_concept.vocabulary_id == 'SNOMED'),'concept_code'].values.tolist()\n",
    "        snomed_list.extend(snomed_code)\n",
    "        if diag not in snomed_diag:\n",
    "            snomed_diag[diag] = snomed_code\n",
    "        else:\n",
    "            snomed_diag[diag].extend(snomed_code)"
   ]
  },
  {
   "cell_type": "code",
   "execution_count": 53,
   "id": "47ee31e4",
   "metadata": {},
   "outputs": [
    {
     "data": {
      "text/plain": [
       "[188019007,\n",
       " 372010005,\n",
       " 42345000,\n",
       " 426749004,\n",
       " 48724000,\n",
       " 35489007,\n",
       " 414916001,\n",
       " 78275009,\n",
       " 396232000,\n",
       " 43077002,\n",
       " 274744005,\n",
       " 711150003,\n",
       " 76107001,\n",
       " 162864005,\n",
       " 427359005,\n",
       " 429050006]"
      ]
     },
     "execution_count": 53,
     "metadata": {},
     "output_type": "execute_result"
    }
   ],
   "source": [
    "snomed_list"
   ]
  },
  {
   "cell_type": "markdown",
   "id": "3cec1ae1",
   "metadata": {},
   "source": [
    "### SNOMED codes to all other related codes (standard to related non-standard)"
   ]
  },
  {
   "cell_type": "code",
   "execution_count": 60,
   "id": "3548c32f",
   "metadata": {},
   "outputs": [],
   "source": [
    "# All other related diagnosis OMOP concept codes\n",
    "# This will look different with the entire OMOP set, as it will contain more non-standard codes\n",
    "related_diag = {}\n",
    "related_list = []\n",
    "for diag in std_diag_dict.keys():\n",
    "    snomed = std_diag_dict[diag]\n",
    "    # There might be more than one standard for that ICD code\n",
    "    for j in range(len(snomed)): \n",
    "        all_codes = concept_mapping.mapped_from(diag_mapping, snomed[j])\n",
    "        related_list.extend(all_codes)\n",
    "        if diag not in related_diag:\n",
    "            related_diag[diag] = all_codes\n",
    "        else:\n",
    "            related_diag[diag].extend(all_codes)"
   ]
  },
  {
   "cell_type": "code",
   "execution_count": 61,
   "id": "0b8905bb",
   "metadata": {},
   "outputs": [
    {
     "data": {
      "text/plain": [
       "[201231,\n",
       " 35206233,\n",
       " 45571515,\n",
       " 376647,\n",
       " 35206234,\n",
       " 35206236,\n",
       " 44830975,\n",
       " 44830976,\n",
       " 44836833,\n",
       " 45537817,\n",
       " 45542611,\n",
       " 45552258,\n",
       " 45552261,\n",
       " 45556989,\n",
       " 45571515,\n",
       " 45576320,\n",
       " 1568397,\n",
       " 1568398,\n",
       " 4144933,\n",
       " 4174262,\n",
       " 35207458,\n",
       " 40391593,\n",
       " 40392003,\n",
       " 44794718,\n",
       " 44799712,\n",
       " 45547755,\n",
       " 45552543,\n",
       " 45566898,\n",
       " 45581510,\n",
       " 45595957,\n",
       " 3519154,\n",
       " 3547903,\n",
       " 1553753,\n",
       " 1569171,\n",
       " 4141360,\n",
       " 45591467,\n",
       " 443962,\n",
       " 40399349,\n",
       " 45601031,\n",
       " 3528972,\n",
       " 440383,\n",
       " 4103573,\n",
       " 4141235,\n",
       " 35207154,\n",
       " 37200320,\n",
       " 40322275,\n",
       " 44782706,\n",
       " 44794775,\n",
       " 44796370,\n",
       " 44796936,\n",
       " 44797200,\n",
       " 44797412,\n",
       " 44798442,\n",
       " 44800512,\n",
       " 44833421,\n",
       " 45571759,\n",
       " 45571760,\n",
       " 45595904,\n",
       " 433736,\n",
       " 1568022,\n",
       " 35207023,\n",
       " 35207024,\n",
       " 40272782,\n",
       " 40321247,\n",
       " 40321249,\n",
       " 40351293,\n",
       " 44813376,\n",
       " 44833387,\n",
       " 45533036,\n",
       " 45547648,\n",
       " 45576460,\n",
       " 45591051,\n",
       " 442588,\n",
       " 40396500,\n",
       " 44825323,\n",
       " 45552539,\n",
       " 3538308,\n",
       " 3538310,\n",
       " 3538311,\n",
       " 3538312,\n",
       " 3538691,\n",
       " 3538694,\n",
       " 1569582,\n",
       " 1569588,\n",
       " 4025008,\n",
       " 4025009,\n",
       " 4025665,\n",
       " 4057085,\n",
       " 4057086,\n",
       " 4057530,\n",
       " 4057532,\n",
       " 4222781,\n",
       " 4288544,\n",
       " 40346380,\n",
       " 40438493,\n",
       " 40479291,\n",
       " 44829043,\n",
       " 44832463,\n",
       " 44833643,\n",
       " 45533588,\n",
       " 45543305,\n",
       " 45543307,\n",
       " 4181782,\n",
       " 40318089,\n",
       " 45596876,\n",
       " 4118754,\n",
       " 4168700,\n",
       " 35211397,\n",
       " 44802988,\n",
       " 45534459,\n",
       " 44831974,\n",
       " 45552108,\n",
       " 46273937,\n",
       " 77079,\n",
       " 1570673,\n",
       " 4000957,\n",
       " 4002637,\n",
       " 40320858,\n",
       " 40353926,\n",
       " 40620309,\n",
       " 42617674,\n",
       " 42617681,\n",
       " 42617682,\n",
       " 44823368,\n",
       " 44837359,\n",
       " 45548426,\n",
       " 45557888,\n",
       " 45567566,\n",
       " 45577270,\n",
       " 45582158,\n",
       " 45601461,\n",
       " 1576153,\n",
       " 4060985,\n",
       " 40298254,\n",
       " 44821626,\n",
       " 44823910,\n",
       " 44828615,\n",
       " 44828616,\n",
       " 44829685,\n",
       " 44830872,\n",
       " 44834364,\n",
       " 44834365,\n",
       " 44834366,\n",
       " 44835553,\n",
       " 44836723,\n",
       " 45547336,\n",
       " 45566451,\n",
       " 45566452,\n",
       " 45566453,\n",
       " 45581058,\n",
       " 45585849,\n",
       " 45595538,\n",
       " 45600348,\n",
       " 45609961,\n",
       " 45609962,\n",
       " 3544371,\n",
       " 3545027,\n",
       " 4142875,\n",
       " 44829308,\n",
       " 45534479,\n",
       " 1576216,\n",
       " 4179242,\n",
       " 44827307,\n",
       " 44835417,\n",
       " 45605160]"
      ]
     },
     "execution_count": 61,
     "metadata": {},
     "output_type": "execute_result"
    }
   ],
   "source": [
    "related_list"
   ]
  },
  {
   "cell_type": "code",
   "execution_count": 22,
   "id": "d5c50807",
   "metadata": {},
   "outputs": [
    {
     "data": {
      "text/plain": [
       "<module 'concept_mapping' from '/Users/yc3972/Desktop/DBMI/Courses/GD1_Fall/G4003 Symbolic Methods/Project/off_label/concept_mapping.py'>"
      ]
     },
     "execution_count": 22,
     "metadata": {},
     "output_type": "execute_result"
    }
   ],
   "source": [
    "import imp\n",
    "imp.reload(concept_mapping)"
   ]
  },
  {
   "cell_type": "code",
   "execution_count": 33,
   "id": "610c1aed",
   "metadata": {},
   "outputs": [],
   "source": [
    "### Patient's drug list --> Indication database --> matching diagnosis codes\n",
    "gaba_indication = pd.read_csv(\"Gabapentin_indications_drugcentral.csv\", sep = ',', header =0)\n",
    "gaba_indication['snomed_conceptid'] = gaba_indication['snomed_conceptid'].fillna(0).astype('int64')"
   ]
  },
  {
   "cell_type": "code",
   "execution_count": 63,
   "id": "efe57b8f",
   "metadata": {},
   "outputs": [
    {
     "data": {
      "text/plain": [
       "[35489007,\n",
       " 6471006,\n",
       " 90708001,\n",
       " 2177002,\n",
       " 32914008,\n",
       " 0,\n",
       " 198436008,\n",
       " 82423001,\n",
       " 418363000,\n",
       " 197480006,\n",
       " 203082005,\n",
       " 193462001,\n",
       " 418363000,\n",
       " 7200002,\n",
       " 68154008,\n",
       " 422587007,\n",
       " 247398009,\n",
       " 107401000119105,\n",
       " 609558009,\n",
       " 716771000,\n",
       " 42984000]"
      ]
     },
     "execution_count": 63,
     "metadata": {},
     "output_type": "execute_result"
    }
   ],
   "source": [
    "# All the snomed concepts from gabapentin indication conditions\n",
    "test = gaba_indication['snomed_conceptid'].values.tolist()\n",
    "test"
   ]
  },
  {
   "cell_type": "code",
   "execution_count": 62,
   "id": "e8ce4172",
   "metadata": {},
   "outputs": [
    {
     "name": "stdout",
     "output_type": "stream",
     "text": [
      "False\n",
      "False\n",
      "False\n",
      "False\n",
      "False\n",
      "False\n",
      "False\n",
      "False\n",
      "False\n",
      "False\n",
      "False\n",
      "False\n",
      "False\n",
      "False\n",
      "False\n",
      "False\n",
      "False\n",
      "False\n",
      "False\n",
      "False\n",
      "False\n"
     ]
    }
   ],
   "source": [
    "# are any of the gabapentin indications in the related list?\n",
    "for concept in test:\n",
    "    print(concept in related_list)"
   ]
  },
  {
   "cell_type": "code",
   "execution_count": 65,
   "id": "25088a84",
   "metadata": {},
   "outputs": [
    {
     "name": "stdout",
     "output_type": "stream",
     "text": [
      "True\n",
      "False\n",
      "False\n",
      "False\n",
      "False\n",
      "False\n",
      "False\n",
      "False\n",
      "False\n",
      "False\n",
      "False\n",
      "False\n",
      "False\n",
      "False\n",
      "False\n",
      "False\n",
      "False\n",
      "False\n",
      "False\n",
      "False\n",
      "False\n"
     ]
    }
   ],
   "source": [
    "for concept in test:\n",
    "    print(concept in snomed_list)"
   ]
  },
  {
   "cell_type": "code",
   "execution_count": null,
   "id": "29c42ddd",
   "metadata": {},
   "outputs": [],
   "source": []
  }
 ],
 "metadata": {
  "kernelspec": {
   "display_name": "Python 3.9.7 64-bit",
   "language": "python",
   "name": "python397jvsc74a57bd0b0fa6594d8f4cbf19f97940f81e996739fb7646882a419484c72d19e05852a7e"
  },
  "language_info": {
   "codemirror_mode": {
    "name": "ipython",
    "version": 3
   },
   "file_extension": ".py",
   "mimetype": "text/x-python",
   "name": "python",
   "nbconvert_exporter": "python",
   "pygments_lexer": "ipython3",
   "version": "3.9.7"
  }
 },
 "nbformat": 4,
 "nbformat_minor": 5
}
