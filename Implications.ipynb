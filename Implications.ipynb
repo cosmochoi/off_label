{
 "cells": [
  {
   "cell_type": "code",
   "execution_count": 58,
   "id": "5d7eb815",
   "metadata": {},
   "outputs": [],
   "source": [
    "import off_label\n",
    "import pandas as pd\n",
    "import matplotlib.pyplot as plt"
   ]
  },
  {
   "cell_type": "code",
   "execution_count": null,
   "id": "36643af1",
   "metadata": {},
   "outputs": [],
   "source": [
    "\"\"\"Analysis of Patient Information.\n",
    "This script does not calculate off-label drug prescription, but rather analyzes the patients.\"\"\""
   ]
  },
  {
   "cell_type": "code",
   "execution_count": 49,
   "id": "4c3952f3",
   "metadata": {},
   "outputs": [],
   "source": [
    "# Returning the list of all patient IDs that have been given a certain drug\n",
    "patients = off_label.patient_list('Gabapentin').reset_index()"
   ]
  },
  {
   "cell_type": "code",
   "execution_count": 50,
   "id": "0424cd72",
   "metadata": {
    "scrolled": true
   },
   "outputs": [
    {
     "data": {
      "text/html": [
       "<div>\n",
       "<style scoped>\n",
       "    .dataframe tbody tr th:only-of-type {\n",
       "        vertical-align: middle;\n",
       "    }\n",
       "\n",
       "    .dataframe tbody tr th {\n",
       "        vertical-align: top;\n",
       "    }\n",
       "\n",
       "    .dataframe thead th {\n",
       "        text-align: right;\n",
       "    }\n",
       "</style>\n",
       "<table border=\"1\" class=\"dataframe\">\n",
       "  <thead>\n",
       "    <tr style=\"text-align: right;\">\n",
       "      <th></th>\n",
       "      <th>index</th>\n",
       "      <th>subject_id</th>\n",
       "      <th>hadm_id</th>\n",
       "      <th>admittime</th>\n",
       "      <th>dischtime</th>\n",
       "      <th>deathtime</th>\n",
       "      <th>admission_type</th>\n",
       "      <th>admission_location</th>\n",
       "      <th>discharge_location</th>\n",
       "      <th>insurance</th>\n",
       "      <th>language</th>\n",
       "      <th>marital_status</th>\n",
       "      <th>ethnicity</th>\n",
       "      <th>edregtime</th>\n",
       "      <th>edouttime</th>\n",
       "      <th>hospital_expire_flag</th>\n",
       "      <th>duration</th>\n",
       "    </tr>\n",
       "  </thead>\n",
       "  <tbody>\n",
       "    <tr>\n",
       "      <th>0</th>\n",
       "      <td>65</td>\n",
       "      <td>15772648</td>\n",
       "      <td>20829310</td>\n",
       "      <td>2145-09-01 19:50:00</td>\n",
       "      <td>2145-09-04 14:35:00</td>\n",
       "      <td>NaN</td>\n",
       "      <td>EW EMER.</td>\n",
       "      <td>EMERGENCY ROOM</td>\n",
       "      <td>HOME</td>\n",
       "      <td>b'Medicare'</td>\n",
       "      <td>ENGLISH</td>\n",
       "      <td>SINGLE</td>\n",
       "      <td>WHITE</td>\n",
       "      <td>NaN</td>\n",
       "      <td>NaN</td>\n",
       "      <td>0</td>\n",
       "      <td>2 days 18:45:00</td>\n",
       "    </tr>\n",
       "    <tr>\n",
       "      <th>1</th>\n",
       "      <td>132</td>\n",
       "      <td>11309329</td>\n",
       "      <td>25435133</td>\n",
       "      <td>2128-11-27 18:41:00</td>\n",
       "      <td>2128-11-27 21:50:00</td>\n",
       "      <td>NaN</td>\n",
       "      <td>EU OBSERVATION</td>\n",
       "      <td>EMERGENCY ROOM</td>\n",
       "      <td>NaN</td>\n",
       "      <td>b'Other'</td>\n",
       "      <td>ENGLISH</td>\n",
       "      <td>MARRIED</td>\n",
       "      <td>WHITE</td>\n",
       "      <td>2128-11-27 13:38:00</td>\n",
       "      <td>2128-11-27 21:50:00</td>\n",
       "      <td>0</td>\n",
       "      <td>0 days 03:09:00</td>\n",
       "    </tr>\n",
       "    <tr>\n",
       "      <th>2</th>\n",
       "      <td>162</td>\n",
       "      <td>13117765</td>\n",
       "      <td>23971962</td>\n",
       "      <td>2181-10-14 19:27:00</td>\n",
       "      <td>2181-10-17 15:58:00</td>\n",
       "      <td>NaN</td>\n",
       "      <td>EW EMER.</td>\n",
       "      <td>EMERGENCY ROOM</td>\n",
       "      <td>HOME</td>\n",
       "      <td>b'Medicare'</td>\n",
       "      <td>?</td>\n",
       "      <td>DIVORCED</td>\n",
       "      <td>OTHER</td>\n",
       "      <td>2181-10-14 17:30:00</td>\n",
       "      <td>2181-10-14 21:11:00</td>\n",
       "      <td>0</td>\n",
       "      <td>2 days 20:31:00</td>\n",
       "    </tr>\n",
       "    <tr>\n",
       "      <th>3</th>\n",
       "      <td>1891</td>\n",
       "      <td>13769888</td>\n",
       "      <td>22705127</td>\n",
       "      <td>2151-01-01 12:30:00</td>\n",
       "      <td>2151-01-03 14:50:00</td>\n",
       "      <td>NaN</td>\n",
       "      <td>EW EMER.</td>\n",
       "      <td>PACU</td>\n",
       "      <td>HOME</td>\n",
       "      <td>b'Medicare'</td>\n",
       "      <td>ENGLISH</td>\n",
       "      <td>SINGLE</td>\n",
       "      <td>WHITE</td>\n",
       "      <td>NaN</td>\n",
       "      <td>NaN</td>\n",
       "      <td>0</td>\n",
       "      <td>2 days 02:20:00</td>\n",
       "    </tr>\n",
       "    <tr>\n",
       "      <th>4</th>\n",
       "      <td>7210</td>\n",
       "      <td>14273762</td>\n",
       "      <td>21475267</td>\n",
       "      <td>2160-12-18 07:15:00</td>\n",
       "      <td>2160-12-20 14:30:00</td>\n",
       "      <td>NaN</td>\n",
       "      <td>DIRECT OBSERVATION</td>\n",
       "      <td>PACU</td>\n",
       "      <td>NaN</td>\n",
       "      <td>b'Medicare'</td>\n",
       "      <td>ENGLISH</td>\n",
       "      <td>MARRIED</td>\n",
       "      <td>OTHER</td>\n",
       "      <td>NaN</td>\n",
       "      <td>NaN</td>\n",
       "      <td>0</td>\n",
       "      <td>2 days 07:15:00</td>\n",
       "    </tr>\n",
       "  </tbody>\n",
       "</table>\n",
       "</div>"
      ],
      "text/plain": [
       "   index  subject_id   hadm_id           admittime           dischtime  \\\n",
       "0     65    15772648  20829310 2145-09-01 19:50:00 2145-09-04 14:35:00   \n",
       "1    132    11309329  25435133 2128-11-27 18:41:00 2128-11-27 21:50:00   \n",
       "2    162    13117765  23971962 2181-10-14 19:27:00 2181-10-17 15:58:00   \n",
       "3   1891    13769888  22705127 2151-01-01 12:30:00 2151-01-03 14:50:00   \n",
       "4   7210    14273762  21475267 2160-12-18 07:15:00 2160-12-20 14:30:00   \n",
       "\n",
       "  deathtime      admission_type admission_location discharge_location  \\\n",
       "0       NaN            EW EMER.     EMERGENCY ROOM               HOME   \n",
       "1       NaN      EU OBSERVATION     EMERGENCY ROOM                NaN   \n",
       "2       NaN            EW EMER.     EMERGENCY ROOM               HOME   \n",
       "3       NaN            EW EMER.               PACU               HOME   \n",
       "4       NaN  DIRECT OBSERVATION               PACU                NaN   \n",
       "\n",
       "     insurance language marital_status ethnicity            edregtime  \\\n",
       "0  b'Medicare'  ENGLISH         SINGLE     WHITE                  NaN   \n",
       "1     b'Other'  ENGLISH        MARRIED     WHITE  2128-11-27 13:38:00   \n",
       "2  b'Medicare'        ?       DIVORCED     OTHER  2181-10-14 17:30:00   \n",
       "3  b'Medicare'  ENGLISH         SINGLE     WHITE                  NaN   \n",
       "4  b'Medicare'  ENGLISH        MARRIED     OTHER                  NaN   \n",
       "\n",
       "             edouttime  hospital_expire_flag        duration  \n",
       "0                  NaN                     0 2 days 18:45:00  \n",
       "1  2128-11-27 21:50:00                     0 0 days 03:09:00  \n",
       "2  2181-10-14 21:11:00                     0 2 days 20:31:00  \n",
       "3                  NaN                     0 2 days 02:20:00  \n",
       "4                  NaN                     0 2 days 07:15:00  "
      ]
     },
     "execution_count": 50,
     "metadata": {},
     "output_type": "execute_result"
    }
   ],
   "source": [
    "# Returning the patient's information who have been given the drug\n",
    "information = off_label.patient_details(patients.subject_id.values)\n",
    "information.head()"
   ]
  },
  {
   "cell_type": "code",
   "execution_count": 53,
   "id": "98d5ef5b",
   "metadata": {},
   "outputs": [
    {
     "data": {
      "text/plain": [
       "index                             int64\n",
       "subject_id                        int64\n",
       "hadm_id                           int64\n",
       "admittime                datetime64[ns]\n",
       "dischtime                datetime64[ns]\n",
       "deathtime                        object\n",
       "admission_type                   object\n",
       "admission_location               object\n",
       "discharge_location               object\n",
       "insurance                        object\n",
       "language                         object\n",
       "marital_status                   object\n",
       "ethnicity                        object\n",
       "edregtime                        object\n",
       "edouttime                        object\n",
       "hospital_expire_flag              int64\n",
       "duration                timedelta64[ns]\n",
       "dtype: object"
      ]
     },
     "execution_count": 53,
     "metadata": {},
     "output_type": "execute_result"
    }
   ],
   "source": [
    "information.dtypes"
   ]
  },
  {
   "cell_type": "code",
   "execution_count": 52,
   "id": "67042821",
   "metadata": {},
   "outputs": [],
   "source": [
    "#test2 = gab.decode(\"utf-8\")\n",
    "information['insurance'] = information['insurance'].str.decode('utf-8')"
   ]
  },
  {
   "cell_type": "code",
   "execution_count": 85,
   "id": "bc787e96",
   "metadata": {},
   "outputs": [
    {
     "data": {
      "text/plain": [
       "Text(0, 0.5, '')"
      ]
     },
     "execution_count": 85,
     "metadata": {},
     "output_type": "execute_result"
    },
    {
     "data": {
      "image/png": "[encoded data removed]",
      "text/plain": [
       "<Figure size 432x288 with 1 Axes>"
      ]
     },
     "metadata": {},
     "output_type": "display_data"
    }
   ],
   "source": [
    "exp = information['ethnicity'].value_counts()\n",
    "exp.plot.pie(autopct='%1.1f%%',shadow=True, radius=2, labeldistance = 1.1, pctdistance = 0.8)\n",
    "#plt.legend(information['ethnicity'], loc = 'upper right')\n",
    "#.plot(kind = 'pie', autopct = '%1.1f%%')\n",
    "plt.ylabel('')"
   ]
  },
  {
   "cell_type": "code",
   "execution_count": null,
   "id": "df57b25f",
   "metadata": {},
   "outputs": [],
   "source": [
    "## WILL NOT BE DOING MORE ANALYSIS UNTIL WE HAVE MORE RESULTS"
   ]
  },
  {
   "cell_type": "code",
   "execution_count": 55,
   "id": "b413d2bd",
   "metadata": {},
   "outputs": [
    {
     "data": {
      "text/plain": [
       "<AxesSubplot:ylabel='insurance'>"
      ]
     },
     "execution_count": 55,
     "metadata": {},
     "output_type": "execute_result"
    },
    {
     "data": {
      "image/png": "[encoded data removed]",
      "text/plain": [
       "<Figure size 432x288 with 1 Axes>"
      ]
     },
     "metadata": {},
     "output_type": "display_data"
    }
   ],
   "source": [
    "gab.loc[gab['ethnicity'] == \"WHITE\", 'insurance'].value_counts().plot(kind = 'pie', autopct = '%1.1f%%')"
   ]
  },
  {
   "cell_type": "code",
   "execution_count": 38,
   "id": "9532b359",
   "metadata": {},
   "outputs": [
    {
     "data": {
      "text/plain": [
       "<AxesSubplot:ylabel='insurance'>"
      ]
     },
     "execution_count": 38,
     "metadata": {},
     "output_type": "execute_result"
    },
    {
     "data": {
      "image/png": "[encoded data removed]",
      "text/plain": [
       "<Figure size 432x288 with 1 Axes>"
      ]
     },
     "metadata": {},
     "output_type": "display_data"
    }
   ],
   "source": [
    "colors={'Medicare':'red', \n",
    "        'Medicaid':'orange', 'Other': 'blue'}\n",
    "test = gab.loc[gab['ethnicity'] == \"BLACK/AFRICAN AMERICAN\", 'insurance'].value_counts()\n",
    "test.plot.bar(autopct='%1.1f%%', colors=[colors[v] for v in test.keys()])"
   ]
  },
  {
   "cell_type": "code",
   "execution_count": 44,
   "id": "7e629cd2",
   "metadata": {},
   "outputs": [
    {
     "ename": "ValueError",
     "evalue": "Categorical categories must be unique",
     "output_type": "error",
     "traceback": [
      "\u001b[0;31m---------------------------------------------------------------------------\u001b[0m",
      "\u001b[0;31mValueError\u001b[0m                                Traceback (most recent call last)",
      "\u001b[0;32m/var/folders/7m/t82rsbb157bd48scvrb8rr200000gp/T/ipykernel_52822/3401350473.py\u001b[0m in \u001b[0;36m<module>\u001b[0;34m\u001b[0m\n\u001b[1;32m      4\u001b[0m \u001b[0;31m#topbrandprice = dataset.loc[(dataset['brand'].isin(bestbrands))][['brand', 'price']]#.sort_values('price($)', ascending=False)\u001b[0m\u001b[0;34m\u001b[0m\u001b[0;34m\u001b[0m\u001b[0m\n\u001b[1;32m      5\u001b[0m \u001b[0;34m\u001b[0m\u001b[0m\n\u001b[0;32m----> 6\u001b[0;31m \u001b[0mbrand_cat\u001b[0m \u001b[0;34m=\u001b[0m \u001b[0mCategoricalDtype\u001b[0m\u001b[0;34m(\u001b[0m\u001b[0mcategories\u001b[0m \u001b[0;34m=\u001b[0m \u001b[0mtypes\u001b[0m\u001b[0;34m,\u001b[0m \u001b[0mordered\u001b[0m \u001b[0;34m=\u001b[0m \u001b[0;32mTrue\u001b[0m\u001b[0;34m)\u001b[0m\u001b[0;34m\u001b[0m\u001b[0;34m\u001b[0m\u001b[0m\n\u001b[0m\u001b[1;32m      7\u001b[0m \u001b[0;31m#topbrandprice['brand'] = topbrandprice['brand'].astype(brand_cat)\u001b[0m\u001b[0;34m\u001b[0m\u001b[0;34m\u001b[0m\u001b[0m\n\u001b[1;32m      8\u001b[0m \u001b[0mgab\u001b[0m\u001b[0;34m[\u001b[0m\u001b[0;34m'insurance'\u001b[0m\u001b[0;34m]\u001b[0m \u001b[0;34m=\u001b[0m \u001b[0mgab\u001b[0m\u001b[0;34m[\u001b[0m\u001b[0;34m'insurance'\u001b[0m\u001b[0;34m]\u001b[0m\u001b[0;34m.\u001b[0m\u001b[0mastype\u001b[0m\u001b[0;34m(\u001b[0m\u001b[0mbrand_cat\u001b[0m\u001b[0;34m)\u001b[0m\u001b[0;34m\u001b[0m\u001b[0;34m\u001b[0m\u001b[0m\n",
      "\u001b[0;32m/opt/homebrew/lib/python3.9/site-packages/pandas/core/dtypes/dtypes.py\u001b[0m in \u001b[0;36m__init__\u001b[0;34m(self, categories, ordered)\u001b[0m\n\u001b[1;32m    181\u001b[0m \u001b[0;34m\u001b[0m\u001b[0m\n\u001b[1;32m    182\u001b[0m     \u001b[0;32mdef\u001b[0m \u001b[0m__init__\u001b[0m\u001b[0;34m(\u001b[0m\u001b[0mself\u001b[0m\u001b[0;34m,\u001b[0m \u001b[0mcategories\u001b[0m\u001b[0;34m=\u001b[0m\u001b[0;32mNone\u001b[0m\u001b[0;34m,\u001b[0m \u001b[0mordered\u001b[0m\u001b[0;34m:\u001b[0m \u001b[0mOrdered\u001b[0m \u001b[0;34m=\u001b[0m \u001b[0;32mFalse\u001b[0m\u001b[0;34m)\u001b[0m\u001b[0;34m:\u001b[0m\u001b[0;34m\u001b[0m\u001b[0;34m\u001b[0m\u001b[0m\n\u001b[0;32m--> 183\u001b[0;31m         \u001b[0mself\u001b[0m\u001b[0;34m.\u001b[0m\u001b[0m_finalize\u001b[0m\u001b[0;34m(\u001b[0m\u001b[0mcategories\u001b[0m\u001b[0;34m,\u001b[0m \u001b[0mordered\u001b[0m\u001b[0;34m,\u001b[0m \u001b[0mfastpath\u001b[0m\u001b[0;34m=\u001b[0m\u001b[0;32mFalse\u001b[0m\u001b[0;34m)\u001b[0m\u001b[0;34m\u001b[0m\u001b[0;34m\u001b[0m\u001b[0m\n\u001b[0m\u001b[1;32m    184\u001b[0m \u001b[0;34m\u001b[0m\u001b[0m\n\u001b[1;32m    185\u001b[0m     \u001b[0;34m@\u001b[0m\u001b[0mclassmethod\u001b[0m\u001b[0;34m\u001b[0m\u001b[0;34m\u001b[0m\u001b[0m\n",
      "\u001b[0;32m/opt/homebrew/lib/python3.9/site-packages/pandas/core/dtypes/dtypes.py\u001b[0m in \u001b[0;36m_finalize\u001b[0;34m(self, categories, ordered, fastpath)\u001b[0m\n\u001b[1;32m    335\u001b[0m \u001b[0;34m\u001b[0m\u001b[0m\n\u001b[1;32m    336\u001b[0m         \u001b[0;32mif\u001b[0m \u001b[0mcategories\u001b[0m \u001b[0;32mis\u001b[0m \u001b[0;32mnot\u001b[0m \u001b[0;32mNone\u001b[0m\u001b[0;34m:\u001b[0m\u001b[0;34m\u001b[0m\u001b[0;34m\u001b[0m\u001b[0m\n\u001b[0;32m--> 337\u001b[0;31m             \u001b[0mcategories\u001b[0m \u001b[0;34m=\u001b[0m \u001b[0mself\u001b[0m\u001b[0;34m.\u001b[0m\u001b[0mvalidate_categories\u001b[0m\u001b[0;34m(\u001b[0m\u001b[0mcategories\u001b[0m\u001b[0;34m,\u001b[0m \u001b[0mfastpath\u001b[0m\u001b[0;34m=\u001b[0m\u001b[0mfastpath\u001b[0m\u001b[0;34m)\u001b[0m\u001b[0;34m\u001b[0m\u001b[0;34m\u001b[0m\u001b[0m\n\u001b[0m\u001b[1;32m    338\u001b[0m \u001b[0;34m\u001b[0m\u001b[0m\n\u001b[1;32m    339\u001b[0m         \u001b[0mself\u001b[0m\u001b[0;34m.\u001b[0m\u001b[0m_categories\u001b[0m \u001b[0;34m=\u001b[0m \u001b[0mcategories\u001b[0m\u001b[0;34m\u001b[0m\u001b[0;34m\u001b[0m\u001b[0m\n",
      "\u001b[0;32m/opt/homebrew/lib/python3.9/site-packages/pandas/core/dtypes/dtypes.py\u001b[0m in \u001b[0;36mvalidate_categories\u001b[0;34m(categories, fastpath)\u001b[0m\n\u001b[1;32m    538\u001b[0m \u001b[0;34m\u001b[0m\u001b[0m\n\u001b[1;32m    539\u001b[0m             \u001b[0;32mif\u001b[0m \u001b[0;32mnot\u001b[0m \u001b[0mcategories\u001b[0m\u001b[0;34m.\u001b[0m\u001b[0mis_unique\u001b[0m\u001b[0;34m:\u001b[0m\u001b[0;34m\u001b[0m\u001b[0;34m\u001b[0m\u001b[0m\n\u001b[0;32m--> 540\u001b[0;31m                 \u001b[0;32mraise\u001b[0m \u001b[0mValueError\u001b[0m\u001b[0;34m(\u001b[0m\u001b[0;34m\"Categorical categories must be unique\"\u001b[0m\u001b[0;34m)\u001b[0m\u001b[0;34m\u001b[0m\u001b[0;34m\u001b[0m\u001b[0m\n\u001b[0m\u001b[1;32m    541\u001b[0m \u001b[0;34m\u001b[0m\u001b[0m\n\u001b[1;32m    542\u001b[0m         \u001b[0;32mif\u001b[0m \u001b[0misinstance\u001b[0m\u001b[0;34m(\u001b[0m\u001b[0mcategories\u001b[0m\u001b[0;34m,\u001b[0m \u001b[0mABCCategoricalIndex\u001b[0m\u001b[0;34m)\u001b[0m\u001b[0;34m:\u001b[0m\u001b[0;34m\u001b[0m\u001b[0;34m\u001b[0m\u001b[0m\n",
      "\u001b[0;31mValueError\u001b[0m: Categorical categories must be unique"
     ]
    }
   ],
   "source": [
    "from pandas.api.types import CategoricalDtype\n",
    "types = gab.insurance.tolist()\n",
    "\n",
    "#topbrandprice = dataset.loc[(dataset['brand'].isin(bestbrands))][['brand', 'price']]#.sort_values('price($)', ascending=False)\n",
    "\n",
    "brand_cat = CategoricalDtype(categories = types, ordered = True)\n",
    "#topbrandprice['brand'] = topbrandprice['brand'].astype(brand_cat)\n",
    "gab['insurance'] = gab['insurance'].astype(brand_cat)\n",
    "test4 = gab.loc[gab['ethnicity'] == \"WHITE\", 'insurance'].value_counts()\n",
    "test4.plot.bar(colors=[colors[v] for v in test4.keys()])"
   ]
  },
  {
   "cell_type": "code",
   "execution_count": 21,
   "id": "41a7e14a",
   "metadata": {},
   "outputs": [
    {
     "data": {
      "text/plain": [
       "str"
      ]
     },
     "execution_count": 21,
     "metadata": {},
     "output_type": "execute_result"
    }
   ],
   "source": [
    "type(test.keys()[0])"
   ]
  },
  {
   "cell_type": "code",
   "execution_count": null,
   "id": "03cc9d8a",
   "metadata": {},
   "outputs": [],
   "source": []
  }
 ],
 "metadata": {
  "kernelspec": {
   "display_name": "Python 3.9.7 64-bit",
   "language": "python",
   "name": "python397jvsc74a57bd0b0fa6594d8f4cbf19f97940f81e996739fb7646882a419484c72d19e05852a7e"
  },
  "language_info": {
   "codemirror_mode": {
    "name": "ipython",
    "version": 3
   },
   "file_extension": ".py",
   "mimetype": "text/x-python",
   "name": "python",
   "nbconvert_exporter": "python",
   "pygments_lexer": "ipython3",
   "version": "3.9.7"
  }
 },
 "nbformat": 4,
 "nbformat_minor": 5
}
